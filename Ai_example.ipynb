{
 "cells": [
  {
   "cell_type": "code",
   "execution_count": 1,
   "metadata": {},
   "outputs": [],
   "source": [
    "import pyccl as ccl\n",
    "import A_IA_funcs as ai\n",
    "import numpy as np"
   ]
  },
  {
   "cell_type": "code",
   "execution_count": 2,
   "metadata": {},
   "outputs": [],
   "source": [
    "# Define a CCL cosmology - use the built-in default here.\n",
    "cosmo = ccl.CosmologyVanillaLCDM()"
   ]
  },
  {
   "cell_type": "code",
   "execution_count": 3,
   "metadata": {},
   "outputs": [],
   "source": [
    "# Need a redshift distribution - insert your own here\n",
    "# Does not need to be pre-normalised\n",
    "z = np.linspace(0,4.0, 1000)\n",
    "dndz = z**2 * np.exp( - (z / 0.13)**0.78)\n",
    "\n",
    "nz = (z, dndz)"
   ]
  },
  {
   "cell_type": "code",
   "execution_count": 6,
   "metadata": {},
   "outputs": [],
   "source": [
    "# This function has a number of keyword params with defaults for the luminosity function params\n",
    "# The defaults are the 'all, deep2' values from the Krause, Eifler, Blazek 2016 paper\n",
    "# The no-keywoard argument call signature is\n",
    "# get_Ai(A0, beta, cosmo, dndz)\n",
    "\n",
    "Ai = ai.get_Ai(5.0, 1., cosmo, nz, Mr_s=-20.34, Q=1.8, alpha_lum=-0.57, phi_0=0.011, P=-1.2, mlim=25.3, Lp= 1.)\n"
   ]
  },
  {
   "cell_type": "code",
   "execution_count": 10,
   "metadata": {},
   "outputs": [
    {
     "name": "stdout",
     "output_type": "stream",
     "text": [
      "0.10673629454317786\n"
     ]
    }
   ],
   "source": [
    "print(Ai/5.*0.16)"
   ]
  },
  {
   "cell_type": "code",
   "execution_count": null,
   "metadata": {},
   "outputs": [],
   "source": []
  }
 ],
 "metadata": {
  "kernelspec": {
   "display_name": "desc-tjp",
   "language": "python",
   "name": "desc-tjp"
  },
  "language_info": {
   "codemirror_mode": {
    "name": "ipython",
    "version": 3
   },
   "file_extension": ".py",
   "mimetype": "text/x-python",
   "name": "python",
   "nbconvert_exporter": "python",
   "pygments_lexer": "ipython3",
   "version": "3.6.9"
  }
 },
 "nbformat": 4,
 "nbformat_minor": 4
}
