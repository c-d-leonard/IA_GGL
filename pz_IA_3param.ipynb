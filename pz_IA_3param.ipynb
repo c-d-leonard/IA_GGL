{
 "cells": [
  {
   "cell_type": "code",
   "execution_count": 1,
   "metadata": {},
   "outputs": [],
   "source": [
    "import numpy as np\n",
    "import matplotlib.pyplot as plt\n",
    "from scipy.stats import chi2\n",
    "from scipy.interpolate import RectBivariateSpline, interp1d"
   ]
  },
  {
   "cell_type": "markdown",
   "metadata": {},
   "source": [
    "Calculate likelihoods / chisq for a model containing a combination of photo-z uncertainty as a function of $\\Delta z$ and $\\sigma_z$ and a single A_IA intrinsic alignment parameter across 1 and 2 halo scales.\n",
    "\n",
    "Make plots."
   ]
  },
  {
   "cell_type": "code",
   "execution_count": 2,
   "metadata": {},
   "outputs": [],
   "source": [
    "# Note the first sigz point is not linearly spaced so should not really be used for plotting atm\n",
    "\n",
    "#delz =  ([-0.05, -0.04, -0.03, -0.02, -0.01, 0.0, 0.01, 0.02, 0.03, 0.04, 0.05, 0.06, 0.07, 0.08, 0.09, 0.1, 0.11, 0.12, 0.13, \n",
    "#          0.14, 0.15, 0.16, 0.17, 0.18, 0.19, 0.2, 0.21, 0.22]) \n",
    "\n",
    "delz =  ([0.0, 0.01, 0.02, 0.03, 0.04, 0.05, 0.06, 0.07, 0.08, 0.09, 0.1])\n",
    "\n",
    "#delz =  ([0.0, 0.01, 0.02, 0.03, 0.04, 0.05, 0.06, 0.07, 0.08, 0.09, 0.1, 0.11, 0.12, 0.13, 0.14, 0.15, 0.16, 0.17,\n",
    "#          0.18, 0.19, 0.2, 0.21, 0.22, 0.23, 0.24, 0.25, 0.26, 0.27, 0.28, 0.29, 0.3, 0.31, 0.32, 0.33, 0.34, 0.35,\n",
    "#          0.36, 0.37, 0.38, 0.39, 0.4, 0.41, 0.42, 0.43, 0.44, 0.45, 0.46, 0.47, 0.48, 0.49, 0.5, 0.51, 0.52, 0.53,\n",
    "#          0.54, 0.55, 0.56, 0.57, 0.58, 0.59, 0.6, 0.61, 0.62, 0.63, 0.64, 0.65, 0.66, 0.67, 0.68, 0.69, 0.7,\n",
    "#         0.71, 0.72, 0.73, 0.74, 0.75, 0.76, 0.77, 0.78, 0.79, 0.8, 0.81, 0.82, 0.83, 0.84, 0.85, 0.86, 0.87, 0.88, \n",
    "#          0.89, 0.9, 0.91, 0.92, 0.93, 0.94, 0.95, 0.96, 0.97, 0.98, 0.99, 1.0, 1.01, 1.02, 1.03, 1.04, 1.05, 1.06, 1.07, 1.08, 1.09, 1.1,\n",
    "#         1.11, 1.12, 1.13, 1.14, 1.15, 1.16, 1.17, 1.18, 1.19, 1.2,1.21, 1.22, 1.23, 1.24, 1.25, 1.26, 1.27, 1.28, 1.29, 1.3, 1.31, \n",
    "#          1.32, 1.33, 1.34, 1.35, 1.36, 1.37, 1.38, 1.39, 1.4,  1.41, 1.42, 1.43, 1.44, 1.45, 1.46, 1.47, 1.47, 1.49, 1.50, \n",
    "#          1.51, 1.52, 1.53, 1.54, 1.55, 1.54, 1.57, 1.58, 1.59, 1.6, 1.61, 1.62, 1.63, 1.64, 1.65, 1.66, 1.67, 1.68, 1.69, 1.7]) \n",
    "\n",
    "sigz = [0.0001, 0.01, 0.02, 0.03, 0.04, 0.05, 0.06, 0.07, 0.08, 0.09, 0.1]#, 0.11, 0.12, 0.13, 0.14, 0.15,\n",
    "        #0.16, 0.17, 0.18, 0.19, 0.2, 0.21, 0.22, 0.23, 0.24, 0.25, 0.26, 0.27, 0.28, 0.29, 0.3, 0.31, 0.32, \n",
    "        #0.33, 0.34, 0.35, 0.36, 0.37, 0.38, 0.39, 0.4]\n",
    "\n",
    "AIA = ([-0.1, -0.08, -0.06, -0.04, -0.02, 0.0, 0.02, 0.04, \n",
    "        0.06, 0.08, 0.1, 0.12, 0.14, 0.16, 0.18, 0.2, 0.22, 0.24, 0.26, 0.28, 0.3, 0.32, 0.34, 0.36])"
   ]
  },
  {
   "cell_type": "code",
   "execution_count": 3,
   "metadata": {},
   "outputs": [],
   "source": [
    "# Load data vectors for each case and get the signal to noise.\n",
    "# Load the covariance in order to do this\n",
    "data_cov = np.load('./txtfiles/DESY1_quantities_fromSara/10KsourceBins_1KlensBins/planck2018_params/CovMat.npy')\n",
    "inv_data_cov = np.linalg.inv(data_cov)\n",
    "gamma_IA_fid = np.loadtxt('./txtfiles/DESY1_quantities_fromSara/10KsourceBins_1KlensBins/planck2018_params/GammaIA')\n",
    "endfile = 'DESY1_wfidIA_measured-redshifts-wrong_variableF_DESHoD'\n",
    "\n",
    "chisquared = np.zeros((len(delz), len(sigz), len(AIA)))\n",
    "for di in range(0,len(delz)):\n",
    "    for si in range(0,len(sigz)):\n",
    "        for ai in range(0,len(AIA)):\n",
    "            theta, data_vec = np.loadtxt('./txtfiles/photo_z_test/gamma_IA_est_'+endfile+'_sigz='+str(sigz[si])+'_delz='+str(delz[di])+'_Aia='+str(AIA[ai])+'.txt', unpack=True)\n",
    "            diff = data_vec - gamma_IA_fid\n",
    "\n",
    "            chisquared[di, si, ai] = np.dot(diff,np.dot(inv_data_cov,diff))\n",
    "            \n",
    "loglike = -0.5*chisquared"
   ]
  },
  {
   "cell_type": "code",
   "execution_count": null,
   "metadata": {},
   "outputs": [],
   "source": [
    "# Plot one of the theory vectors in the 'decent fit' range alongside the data vector and covariance\n",
    "# Just to make sure it looks okay\n",
    "\n",
    "\"\"\"plt.figure()\n",
    "theta, data_vec = np.loadtxt('./txtfiles/photo_z_test/gamma_IA_est_'+endfile+'_sigz=0.0001_delz=0.09_Aia=0.12.txt', unpack=True)\n",
    "plt.loglog(theta, data_vec, 'o')#, label='$\\delta z$=0.07, $\\sigma$=0.0')\n",
    "plt.errorbar(theta, gamma_IA_fid, yerr = np.sqrt(np.diag(data_cov)), marker='o',ls='none',label='measurement')\n",
    "plt.ylabel('$\\gamma_{IA}(\\\\theta)$')\n",
    "plt.xlabel('$\\\\theta$, arcmin')\n",
    "#plt.title('w/ fid IA, perturb measured source redshift distributions \\n + negative, o positive')\n",
    "#plt.ylim(10**(-5),10**(-2))\n",
    "plt.legend()\n",
    "plt.yscale('log')\n",
    "#plt.savefig('./perturb_measured_source_dNdzs_nofidIA_w1halo_variableF_Planck18paras.png')\n",
    "#plt.close()\n",
    "plt.show()\"\"\""
   ]
  },
  {
   "cell_type": "code",
   "execution_count": null,
   "metadata": {},
   "outputs": [],
   "source": [
    "# We want to look at a chi squared distribution with the correct number of degrees of freedom\n",
    "# And calculate the probability that each of our photo-z uncertainty + A_IA models are drawn from this distribution."
   ]
  },
  {
   "cell_type": "code",
   "execution_count": null,
   "metadata": {},
   "outputs": [],
   "source": [
    "# What we want is the CDF value at the chi square given by each of our parameter choices.\n",
    "# What this tells us is the probability that, given our pz-uncertainty model with given sigz and delz is correct, \n",
    "# we would have got the chi square we got or a lower chi squared (fixing our measured data vector and cov).\n",
    "# Eg if CDF = 0.95, this means that if our model is correct, 95% of the time the chi squared would have been lower.\n",
    "# If we care about the model and the data agreeing within 1 sigma, we look for the case where CDF=0.68 or less\n",
    "# i.e. the case where if our model is correct, 68% of the time we would have drawn a lower chi-squared. \n",
    "\n",
    "\"\"\"DOF = len(diff)\n",
    "\n",
    "cdf_grid = np.zeros((len(delz), len(sigz), len(AIA)))\n",
    "for di in range(0,len(delz)):\n",
    "    for si in range(0,len(sigz)):\n",
    "        for ai in range(0,len(AIA)):\n",
    "            cdf_grid[di,si, ai] = chi2.cdf(chisquared[di, si, ai], DOF)\"\"\""
   ]
  },
  {
   "cell_type": "code",
   "execution_count": null,
   "metadata": {},
   "outputs": [],
   "source": [
    "# All of our models are rejected at the 1-sigma level (CDF is never as low as 0.68 for our models.)\n",
    "# What about 2-sigma? This is the 95% confidence interval, so we look to CDF=0.95"
   ]
  },
  {
   "cell_type": "code",
   "execution_count": null,
   "metadata": {},
   "outputs": [],
   "source": [
    "# Plot the cdf as a function of photo-z params\n",
    "\"\"\"for ai in range(0,len(AIA)):\n",
    "    plt.figure()\n",
    "    plt.imshow(cdf_grid[:,:,ai], extent = [0.0, 0.08, 0.1,0.0], interpolation='spline36',aspect=0.5)\n",
    "    plt.xlabel('$\\sigma_z$', fontsize=14)\n",
    "    plt.ylabel('$\\Delta z$', fontsize=14)\n",
    "    plt.xticks(fontsize=12)\n",
    "    plt.yticks(fontsize=12)\n",
    "    plt.title('CDF of $\\chi^2$ distribution, $A_{IA}=$'+str(AIA[ai]), fontsize=14)\n",
    "    cbar = plt.colorbar()\n",
    "    cbar.ax.tick_params(labelsize=14)\n",
    "    plt.contour(sigz, delz, cdf_grid[:,:,ai], [0.68], colors='k', linewidths=4)\n",
    "    plt.savefig('./cdf_Planck18_68pcline_AIA='+str(AIA[ai])+'.png')\n",
    "    plt.close()\"\"\""
   ]
  },
  {
   "cell_type": "code",
   "execution_count": null,
   "metadata": {},
   "outputs": [],
   "source": [
    "# In this case, the minimum element of the array is the best fit. Figure out the parameters for this.\n",
    "\"\"\"min_of_arr = np.amin(cdf_grid)\n",
    "\n",
    "for di in range(0,len(delz)):\n",
    "    for ai in range(0,len(AIA)):\n",
    "        if (cdf_grid[di,si,ai]==min_of_arr):\n",
    "            print('min indices =',di,',',si,',',ai)\n",
    "            print('delta=', delz[di],' sigz=', sigz[si],' AIA=', AIA[ai])\"\"\""
   ]
  },
  {
   "cell_type": "code",
   "execution_count": null,
   "metadata": {},
   "outputs": [],
   "source": [
    "# How good is the fit in the basic reduced-chi-squared sense at these values?\n",
    "#DOF = len(diff)\n",
    "#print(chisquared[14,0,11]/DOF)"
   ]
  },
  {
   "cell_type": "code",
   "execution_count": null,
   "metadata": {},
   "outputs": [],
   "source": [
    "# We seem to fairly unambiguously favour sigma_z=0. Plot the 2D CDF in deltaz and AIA for this restriction.\n",
    "\"\"\"\n",
    "colorbar_info = plt.cm.ScalarMappable(cmap='magma')\n",
    "plt.figure()\n",
    "plt.imshow(cdf_grid[:,0,:], extent = [-0.1, 0.36, 0.22, -0.05], interpolation='spline36',aspect=1.5, cmap='magma')\n",
    "plt.xlabel('$A_{IA}$', fontsize=16)\n",
    "plt.ylabel('$\\Delta z$', fontsize=16)\n",
    "plt.xticks(fontsize=12)\n",
    "plt.yticks(fontsize=12)\n",
    "#plt.title('CDF of $\\chi^2$ distribution, $\\sigma_z=0$', fontsize=14)\n",
    "#cbar = plt.colorbar(colorbar_info)\n",
    "cbar.ax.tick_params(labelsize=14)\n",
    "plt.contour(AIA, delz, cdf_grid[:,0,:], [0.68,0.95], colors='k', linewidths=2)\n",
    "#plt.contour(AIA, delz, cdf_grid[:,0,:], [0.95], colors='k', linestyle=':', linewidth=3,)\n",
    "plt.tight_layout()\n",
    "plt.savefig('./cdf_Planck18_sigz=0.png')\n",
    "plt.show()\"\"\""
   ]
  },
  {
   "cell_type": "markdown",
   "metadata": {},
   "source": [
    "To understand why we are seeing no apparent degeneracy between A_IA and the photo-z parameters, want to pick a relatively high likelihood value and plot each contribution."
   ]
  },
  {
   "cell_type": "code",
   "execution_count": 4,
   "metadata": {},
   "outputs": [],
   "source": [
    "min_loglike = np.amax(loglike)\n",
    "ind_best = np.where(loglike==min_loglike)"
   ]
  },
  {
   "cell_type": "code",
   "execution_count": 5,
   "metadata": {},
   "outputs": [
    {
     "name": "stdout",
     "output_type": "stream",
     "text": [
      "chi^2 / DOF at best fit= 0.7198343388125822\n"
     ]
    }
   ],
   "source": [
    "# What is the chi squared for this?\n",
    "DOF = len(gamma_IA_fid) - 2 # Fitting two parameters\n",
    "bestfit_chi2 = chisquared[ind_best[0][0], ind_best[1][0], ind_best[2][0]]\n",
    "bestfit_chi2_dof = bestfit_chi2/DOF\n",
    "\n",
    "print('chi^2 / DOF at best fit=', bestfit_chi2_dof)"
   ]
  },
  {
   "cell_type": "code",
   "execution_count": 6,
   "metadata": {},
   "outputs": [
    {
     "name": "stdout",
     "output_type": "stream",
     "text": [
      "Max likelihood is at Delta z= 0.09 sigma_z= 0.0001 AIA= 0.12\n"
     ]
    }
   ],
   "source": [
    "# Print the max likelihood values:\n",
    "print('Max likelihood is at Delta z=', delz[ind_best[0][0]], 'sigma_z=', sigz[ind_best[1][0]], 'AIA=', AIA[ind_best[2][0]])"
   ]
  },
  {
   "cell_type": "code",
   "execution_count": 7,
   "metadata": {},
   "outputs": [],
   "source": [
    "# The lensing contribution will be given by the gamma_IA with these pz parameters and AIA=0.\n",
    "# And vice-versa for AIA:\n",
    "\n",
    "theta_1, AIA_contr_bestfit = np.loadtxt('./txtfiles/photo_z_test/gamma_IA_est_'+endfile+'_sigz=0.0001_delz=0.0_Aia=0.12.txt', unpack=True)\n",
    "theta_2, pz_contr_bestfit = np.loadtxt('./txtfiles/photo_z_test/gamma_IA_est_'+endfile+'_sigz=0.0001_delz=0.09_Aia=0.0.txt', unpack=True)"
   ]
  },
  {
   "cell_type": "code",
   "execution_count": 8,
   "metadata": {},
   "outputs": [],
   "source": [
    "# Jonathan's model contribution:\n",
    "theta_3, gam_mod = np.loadtxt('./txtfiles/photo_z_test/mod_IA_nfw_plus_lin.txt', unpack=True)\n",
    "AIA_Jon = 0.12*gam_mod"
   ]
  },
  {
   "cell_type": "code",
   "execution_count": 9,
   "metadata": {},
   "outputs": [],
   "source": [
    "theta_4, finite_lens_contr = np.loadtxt('./txtfiles/photo_z_test/gamma_IA_est_'+endfile+'_sigz=0.0001_delz=0.0_Aia=0.0.txt', unpack=True)"
   ]
  },
  {
   "cell_type": "code",
   "execution_count": 10,
   "metadata": {},
   "outputs": [],
   "source": [
    "# Load the lensing-only gamma_t to see if it has the right scale-dependence before dividing B-1+F\n",
    "theta_5, gammat_a_lens = np.loadtxt('./txtfiles/photo_z_test/gammat_lens_A_'+endfile+'.dat', unpack=True)\n",
    "theta_6, gammat_b_lens = np.loadtxt('./txtfiles/photo_z_test/gammat_lens_B_'+endfile+'.dat', unpack=True)"
   ]
  },
  {
   "cell_type": "code",
   "execution_count": 17,
   "metadata": {},
   "outputs": [
    {
     "data": {
      "image/png": "[encoded data removed]",
      "text/plain": [
       "<Figure size 640x480 with 1 Axes>"
      ]
     },
     "metadata": {},
     "output_type": "display_data"
    }
   ],
   "source": [
    "plt.figure()\n",
    "plt.loglog(theta_1, AIA_contr_bestfit, 'o', label='IA (+ finite lens width) (pos)')\n",
    "plt.loglog(theta_2, -AIA_contr_bestfit, 'o', color='#6495ED', label='IA (+ finite lens width) (neg)', fillstyle='none')\n",
    "plt.loglog(theta_3, -AIA_Jon, color='#6495ED', label='IA only, direct modelling from Jonathan (neg)')\n",
    "plt.loglog(theta_2, pz_contr_bestfit, '+', label='photo-z effect (+ finite lens width) (no IA)')\n",
    "#plt.loglog(theta_4, AIA_Jon+finite_lens_contr, '+',color='m',markersize=16,label='IA model + finite lens width')\n",
    "#plt.loglog(theta_4, -1.0*(AIA_Jon+finite_lens_contr),'x',color='m', markersize=16, label='IA model + finite lens width (neg)')\n",
    "#plt.loglog(theta_5, gammat_a_lens, 'k', linestyle='--', label='lensing only, A')\n",
    "#plt.loglog(theta_6, gammat_b_lens, 'k',linestyle=':', label='lensing only, B')\n",
    "plt.ylim(10**(-7), 10**(-2))\n",
    "plt.title('$A_{IA}=0.12$, $\\Delta z = 0.09$, $\\sigma_z=0$')\n",
    "plt.xlabel('$\\\\theta$ (arcmin)')\n",
    "plt.legend()\n",
    "plt.savefig('./compare_terms.pdf')\n",
    "plt.show()"
   ]
  },
  {
   "cell_type": "code",
   "execution_count": null,
   "metadata": {},
   "outputs": [],
   "source": [
    "AIA_Jon"
   ]
  },
  {
   "cell_type": "markdown",
   "metadata": {},
   "source": [
    "Okay, but what we would really like is a classic 'triangle plot' for the 3 parameters with marginalisation in each 2D plane over the not-shown parameter (and maybe 1D plots over both parameters not shown). Let us construct this. We follow the maths for this from the postprocess module of cosmosis."
   ]
  },
  {
   "cell_type": "code",
   "execution_count": null,
   "metadata": {},
   "outputs": [],
   "source": [
    "# Get 2D marginalised distributions\n",
    "\n",
    "# First normalise the log likelihood such that its peak value is 0\n",
    "loglike_norm = loglike - np.amax(loglike)\n",
    "\n",
    "# Now sum over the extra parameter in each 2D case. \n",
    "# This only works mathematically if you have sampled out to the edges of the distribution.\n",
    "\n",
    "loglike_dz_sigz = np.zeros((len(delz), len(sigz)))\n",
    "for zi in range(0,len(delz)):\n",
    "    for si in range(0,len(sigz)):\n",
    "        loglike_dz_sigz[zi,si] = np.log(np.sum(np.exp(loglike_norm[zi, si,:])))\n",
    "loglike_dz_sigz_norm = loglike_dz_sigz - np.amax(loglike_dz_sigz)\n",
    "like_dz_sigz_norm = np.exp(loglike_dz_sigz_norm)\n",
    "\n",
    "loglike_dz_aia = np.zeros((len(delz), len(AIA)))\n",
    "for zi in range(0,len(delz)):\n",
    "    for ai in range(0,len(AIA)):\n",
    "        loglike_dz_aia[zi,ai] = np.log(np.sum(np.exp(loglike_norm[zi,:, ai])))\n",
    "loglike_dz_aia_norm = loglike_dz_aia - np.amax(loglike_dz_aia)\n",
    "like_dz_aia_norm = np.exp(loglike_dz_aia_norm)\n",
    "\n",
    "loglike_sigz_aia = np.zeros((len(sigz), len(AIA)))\n",
    "for si in range(0,len(sigz)):\n",
    "    for ai in range(0,len(AIA)):\n",
    "        loglike_sigz_aia[si,ai] = np.log(np.sum(np.exp(loglike_norm[:,si, ai])))\n",
    "loglike_sigz_aia_norm = loglike_sigz_aia - np.amax(loglike_sigz_aia)\n",
    "like_sigz_aia_norm = np.exp(loglike_sigz_aia_norm)\n"
   ]
  },
  {
   "cell_type": "code",
   "execution_count": null,
   "metadata": {},
   "outputs": [],
   "source": [
    "# Now also get the 1_D dist for each.\n",
    "# This only works mathematically if you have sampled out to the edges of the distribution.\n",
    "\n",
    "loglike_dz = np.zeros((len(delz)))\n",
    "for di in range(0,len(delz)):\n",
    "    loglike_dz[di] = np.log(np.sum(np.exp(loglike_dz_sigz_norm[di,:])))\n",
    "loglike_dz_norm = loglike_dz - np.amax(loglike_dz)\n",
    "like_dz = np.exp(loglike_dz_norm)\n",
    "\n",
    "\"\"\"loglike_sigz = np.zeros((len(sigz)))\n",
    "for si in range(0,len(sigz)):\n",
    "    loglike_sigz[si] = np.log(np.sum(np.exp(loglike_dz_sigz_norm[:,si])))\n",
    "loglike_sigz_norm = loglike_sigz - np.amax(loglike_sigz)\n",
    "like_sigz = np.exp(loglike_sigz_norm)\"\"\"\n",
    "\n",
    "loglike_AIA = np.zeros((len(AIA)))\n",
    "for ai in range(0,len(AIA)):\n",
    "    loglike_AIA[ai] = np.log(np.sum(np.exp(loglike_dz_aia_norm[:,ai])))\n",
    "loglike_AIA_norm = loglike_AIA - np.amax(loglike_AIA)\n",
    "like_AIA = np.exp(loglike_AIA_norm)\n",
    "\n",
    "#loglike_dz_aia = np.zeros((len(delz), len(AIA)))\n",
    "#for zi in range(0,len(delz)):\n",
    "#    for ai in range(0,len(AIA)):\n",
    "#        loglike_dz_aia[zi,ai] = np.log(np.sum(np.exp(loglike_norm[zi,:, ai])))\n",
    "#loglike_dz_aia_norm = loglike_dz_aia - np.amax(loglike_dz_aia)\n",
    "#like_dz_aia_norm = np.exp(loglike_dz_aia_norm)\n",
    "\n",
    "#loglike_sigz_aia = np.zeros((len(sigz), len(AIA)))\n",
    "#for si in range(0,len(sigz)):\n",
    "#    for ai in range(0,len(AIA)):\n",
    "#        loglike_sigz_aia[si,ai] = np.log(np.sum(np.exp(loglike_norm[:,si, ai])))\n",
    "#loglike_sigz_aia_norm = loglike_sigz_aia - np.amax(loglike_sigz_aia)\n",
    "#like_sigz_aia_norm = np.exp(loglike_sigz_aia_norm)"
   ]
  },
  {
   "cell_type": "code",
   "execution_count": null,
   "metadata": {},
   "outputs": [],
   "source": [
    "plt.figure()\n",
    "plt.plot(AIA, like_AIA)\n",
    "plt.show()"
   ]
  },
  {
   "cell_type": "code",
   "execution_count": null,
   "metadata": {},
   "outputs": [],
   "source": [
    "colorbar_info = plt.cm.ScalarMappable(cmap='cividis')\n",
    "plt.figure()\n",
    "#interpolation='spline36',\n",
    "plt.imshow(like_dz_sigz_norm, extent = [0,0.4,0.0,1.7], origin='lower', aspect=0.3, cmap='cividis')\n",
    "plt.xlabel('$\\sigma_z$', fontsize=16)\n",
    "plt.ylabel('$\\Delta z$', fontsize=16)\n",
    "plt.xticks(fontsize=12)\n",
    "plt.yticks(fontsize=12)\n",
    "#plt.title('CDF of $\\chi^2$ distribution, $\\sigma_z=0$', fontsize=14)\n",
    "cbar = plt.colorbar(colorbar_info)\n",
    "cbar.ax.tick_params(labelsize=14)\n",
    "plt.contour(sigz,delz,  like_dz_sigz_norm, [0.68,0.95], linestyles=['solid','dashed'],colors='k', linewidths=2)\n",
    "#plt.contour(AIA, delz, cdf_grid[:,0,:], [0.95], colors='k', linestyle=':', linewidth=3,)\n",
    "plt.tight_layout()\n",
    "#plt.savefig('./cdf_Planck18_sigz=0.png')\n",
    "plt.show()"
   ]
  },
  {
   "cell_type": "code",
   "execution_count": null,
   "metadata": {},
   "outputs": [],
   "source": [
    "colorbar_info = plt.cm.ScalarMappable(cmap='cividis')\n",
    "plt.figure()\n",
    "plt.imshow(like_dz_aia_norm, origin='lower',extent = [-0.1,0.36,0.0, 0.07], aspect=3.7, cmap='cividis')\n",
    "plt.xlabel('$AIA$', fontsize=16)\n",
    "plt.ylabel('$\\Delta z$', fontsize=16)\n",
    "plt.xticks(fontsize=12)\n",
    "plt.yticks(fontsize=12)\n",
    "#plt.title('CDF of $\\chi^2$ distribution, $\\sigma_z=0$', fontsize=14)\n",
    "cbar = plt.colorbar(colorbar_info)\n",
    "cbar.ax.tick_params(labelsize=14)\n",
    "plt.contour(AIA,delz,  like_dz_aia_norm, [0.68,0.95],linestyles=['solid','dashed'],colors='k', linewidths=2)\n",
    "#plt.contour(AIA, delz, cdf_grid[:,0,:], [0.95], colors='k', linestyle=':', linewidth=3,)\n",
    "plt.tight_layout()\n",
    "#plt.savefig('./cdf_Planck18_sigz=0.png')\n",
    "plt.show()"
   ]
  },
  {
   "cell_type": "code",
   "execution_count": null,
   "metadata": {},
   "outputs": [],
   "source": [
    "colorbar_info = plt.cm.ScalarMappable(cmap='cividis')\n",
    "plt.figure()\n",
    "plt.imshow(like_sigz_aia_norm, origin='lower', extent = [-0.1,0.36, 0.0,0.4], aspect=5, cmap='cividis')\n",
    "plt.xlabel('$AIA$', fontsize=16)\n",
    "plt.ylabel('$\\sigma_z$', fontsize=16)\n",
    "plt.xticks(fontsize=12)\n",
    "plt.yticks(fontsize=12)\n",
    "#plt.title('CDF of $\\chi^2$ distribution, $\\sigma_z=0$', fontsize=14)\n",
    "cbar = plt.colorbar(colorbar_info)\n",
    "cbar.ax.tick_params(labelsize=14)\n",
    "plt.contour(AIA,sigz,  like_sigz_aia_norm, [0.68,0.95], linestyles=['solid','dashed'],colors='k', linewidths=2)\n",
    "#plt.contour(AIA, delz, cdf_grid[:,0,:], [0.95], colors='k', linestyle=':', linewidth=3,)\n",
    "plt.tight_layout()\n",
    "#plt.savefig('./cdf_Planck18_sigz=0.png')\n",
    "plt.show()"
   ]
  },
  {
   "cell_type": "code",
   "execution_count": null,
   "metadata": {},
   "outputs": [],
   "source": [
    "colorbar_info = plt.cm.ScalarMappable(cmap='cividis')\n",
    "# Now actually make these into a triangle plot\n",
    "fig, axs = plt.subplots(3, 3,figsize=[6,6], layout=\"constrained\")\n",
    "fig.delaxes(axs[0][1])\n",
    "fig.delaxes(axs[0][2])\n",
    "fig.delaxes(axs[1][2])\n",
    "axs[0,0].plot(AIA, like_AIA, color='k')\n",
    "axs[0,0].set_yticks([])\n",
    "axs[0,0].set_aspect(0.37)\n",
    "axs[0,0].tick_params(labelsize=10)\n",
    "axs[1, 0].imshow(like_sigz_aia_norm, origin='lower', extent = [-0.1,0.36, 0.0,0.4], aspect=1.1, cmap='cividis')\n",
    "#axs[0,0].set_xlabel('$AIA$', fontsize=16)\n",
    "axs[1,0].set_ylabel('$\\sigma_z$', fontsize=12)\n",
    "axs[1,0].contour(AIA,sigz,  like_sigz_aia_norm, [0.68,0.95], linestyles=['solid','dashed'],colors='k', linewidths=1)\n",
    "axs[1,0].tick_params(labelsize=10)\n",
    "axs[1,1].plot(sigz, like_sigz, color='k')\n",
    "axs[1,1].set_yticks([])\n",
    "axs[1,1].set_aspect(0.4)\n",
    "axs[1,1].tick_params(labelsize=10)\n",
    "axs[2, 0].imshow(like_dz_aia_norm, origin='lower',extent = [-0.1,0.36,0.0, 0.1], aspect=3.7, cmap='cividis')\n",
    "axs[2,0].set_xlabel('$A_{\\\\rm IA}$', fontsize=12)\n",
    "axs[2,0].set_ylabel('$\\Delta z$', fontsize=12)\n",
    "axs[2,0].contour(AIA,delz,  like_dz_aia_norm, [0.68,0.95], linestyles=['solid','dashed'],colors='k', linewidths=1)\n",
    "axs[2,0].tick_params(labelsize=10)\n",
    "axs[2,1].imshow(like_dz_sigz_norm, extent = [0,0.4,0.0,0.1], origin='lower', aspect=4, cmap='cividis')\n",
    "axs[2,1].set_xlabel('$\\sigma_z$', fontsize=12)\n",
    "#axs[1,1].set_ylabel('$\\Delta z$', fontsize=16)\n",
    "axs[2,1].contour(sigz,delz,  like_dz_sigz_norm, [0.68,0.95], linestyles=['solid','dashed'],colors='k', linewidths=1)\n",
    "axs[2,1].tick_params(labelsize=10)\n",
    "axs[2,2].plot(delz, like_dz, color='k')\n",
    "axs[2,2].set_yticks([])\n",
    "axs[2,2].set_aspect(0.1)\n",
    "axs[2,2].set_xlabel('$\\Delta z$', fontsize=12)\n",
    "axs[1,1].tick_params(labelsize=10)\n",
    "#plt.constrained_layout('True')\n",
    "#plt.tight_layout()\n",
    "plt.savefig('./triangle_plot_full_distributions_priors.pdf')\n"
   ]
  },
  {
   "cell_type": "code",
   "execution_count": null,
   "metadata": {},
   "outputs": [],
   "source": [
    "# Interpolate to get smoothe contours\n",
    "\n",
    "# 2D\n",
    "\n",
    "plot_sigz_ai = like_sigz_aia_norm[0:6,5:16]\n",
    "sigz_ai_spline = RectBivariateSpline(sigz[0:6], AIA[5:16], plot_sigz_ai)\n",
    "\n",
    "sigz_plot = np.linspace(0, 0.05, 100)\n",
    "AIA_plot = np.linspace(0,0.2, 100)\n",
    "sigz_ai_smooth = np.zeros((len(sigz_plot), len(AIA_plot)))\n",
    "for si in range(0,len(sigz_plot)):\n",
    "    for ai in range(0,len(AIA_plot)):\n",
    "        sigz_ai_smooth[si,ai] = sigz_ai_spline.ev(sigz_plot[si], AIA_plot[ai])\n",
    "\n",
    "plot_dz_ai =like_dz_aia_norm[0:31,5:16]\n",
    "dz_ai_spline = RectBivariateSpline(delz[0:31], AIA[5:16], plot_dz_ai)\n",
    "\n",
    "delz_plot = np.linspace(0, 0.3, 100)\n",
    "delz_ai_smooth = np.zeros((len(delz_plot), len(AIA_plot)))\n",
    "for di in range(0,len(delz_plot)):\n",
    "    for ai in range(0,len(AIA_plot)):\n",
    "        delz_ai_smooth[di,ai] = dz_ai_spline.ev(delz_plot[di], AIA_plot[ai])\n",
    "\n",
    "plot_dz_sigz =like_dz_sigz_norm[0:31,0:6]\n",
    "dz_sigz_spline = RectBivariateSpline(delz[0:31], sigz[0:6], plot_dz_sigz)\n",
    "\n",
    "delz_sigz_smooth = np.zeros((len(delz_plot), len(sigz_plot)))\n",
    "for di in range(0,len(delz_plot)):\n",
    "    for si in range(0,len(sigz_plot)):\n",
    "        delz_sigz_smooth[di,si] = dz_sigz_spline.ev(delz_plot[di], sigz_plot[si])"
   ]
  },
  {
   "cell_type": "code",
   "execution_count": null,
   "metadata": {},
   "outputs": [],
   "source": [
    "# 1D:\n",
    "\n",
    "delz_spline = interp1d(delz, like_dz)\n",
    "delz_smooth = delz_spline(delz_plot)\n",
    "\n",
    "ai_spline = interp1d(AIA, like_AIA)\n",
    "ai_smooth = ai_spline(AIA_plot)\n",
    "\n",
    "sigz_plot_1D = np.linspace(0.0001, 0.05,100)\n",
    "sigz_spline = interp1d(sigz, like_sigz)\n",
    "sigz_smooth = sigz_spline(sigz_plot_1D)"
   ]
  },
  {
   "cell_type": "code",
   "execution_count": null,
   "metadata": {},
   "outputs": [],
   "source": [
    "sigz_ai_smooth.shape"
   ]
  },
  {
   "cell_type": "code",
   "execution_count": null,
   "metadata": {},
   "outputs": [],
   "source": [
    "colorbar_info = plt.cm.ScalarMappable(cmap='cividis')\n",
    "# Now actually make these into a triangle plot\n",
    "fig, axs = plt.subplots(3, 3,figsize=[6,6], layout=\"constrained\")\n",
    "fig.delaxes(axs[0][1])\n",
    "fig.delaxes(axs[0][2])\n",
    "fig.delaxes(axs[1][2])\n",
    "axs[0,0].plot(AIA_plot, ai_smooth, color='k')\n",
    "axs[0,0].set_yticks([])\n",
    "axs[0,0].set_aspect(0.2)\n",
    "axs[0,0].tick_params(labelsize=10)\n",
    "axs[1,0].imshow(sigz_ai_smooth, origin='lower', extent = [0.0, 0.2, 0.0,0.05], aspect=4.0, cmap='cividis')#, interpolation='spline36')\n",
    "axs[1,0].set_ylabel('$\\sigma_z$', fontsize=16)\n",
    "axs[1,0].contour(AIA_plot,sigz_plot, sigz_ai_smooth, [0.68,0.95], linestyles=['solid','dashed'],colors='k', linewidths=1)\n",
    "axs[1,0].tick_params(labelsize=10)\n",
    "axs[1,1].plot(sigz_plot_1D, sigz_smooth, color='k')\n",
    "axs[1,1].set_yticks([])\n",
    "axs[1,1].set_aspect(0.05/0.4)\n",
    "axs[1,1].tick_params(labelsize=10)\n",
    "axs[2, 0].imshow(delz_ai_smooth, origin='lower',extent = [0.0,0.2,0.0, 0.3], aspect=0.66667, cmap='cividis',  interpolation='spline36')\n",
    "axs[2,0].set_xlabel('$A_{\\\\rm IA}$', fontsize=12)\n",
    "axs[2,0].set_ylabel('$\\Delta z$', fontsize=12)\n",
    "axs[2,0].contour(AIA_plot,delz_plot, delz_ai_smooth, [0.68,0.95], linestyles=['solid','dashed'],colors='k', linewidths=1)\n",
    "axs[2,0].tick_params(labelsize=10)\n",
    "axs[2,1].imshow(delz_sigz_smooth, extent = [0,0.05,0.0,0.3], origin='lower', aspect=5./30., cmap='cividis', interpolation='spline36')\n",
    "axs[2,1].set_xlabel('$\\sigma_z$', fontsize=12)\n",
    "#axs[1,1].set_ylabel('$\\Delta z$', fontsize=16)\n",
    "axs[2,1].contour(sigz_plot,delz_plot,  delz_sigz_smooth, [0.68,0.95], linestyles=['solid','dashed'],colors='k', linewidths=1)\n",
    "axs[2,1].tick_params(labelsize=10)\n",
    "axs[2,2].plot(delz_plot, delz_smooth, color='k')\n",
    "#axs[2,2].set_yticks([])\n",
    "axs[2,2].set_aspect(0.3)\n",
    "axs[2,2].set_xlabel('$\\Delta z$', fontsize=12)\n",
    "#plt.tight_layout()\n",
    "plt.savefig('./triangle_plot_cutout_smoothed.pdf')"
   ]
  },
  {
   "cell_type": "code",
   "execution_count": null,
   "metadata": {},
   "outputs": [],
   "source": [
    "(52+55)/2."
   ]
  },
  {
   "cell_type": "code",
   "execution_count": null,
   "metadata": {},
   "outputs": [],
   "source": [
    "like_dz_aia_norm[-1,:]"
   ]
  },
  {
   "cell_type": "code",
   "execution_count": null,
   "metadata": {},
   "outputs": [],
   "source": [
    "like_dz_sigz_norm[10,:]"
   ]
  },
  {
   "cell_type": "code",
   "execution_count": null,
   "metadata": {},
   "outputs": [],
   "source": []
  }
 ],
 "metadata": {
  "kernelspec": {
   "display_name": "IA_GGL",
   "language": "python",
   "name": "ia_ggl"
  },
  "language_info": {
   "codemirror_mode": {
    "name": "ipython",
    "version": 3
   },
   "file_extension": ".py",
   "mimetype": "text/x-python",
   "name": "python",
   "nbconvert_exporter": "python",
   "pygments_lexer": "ipython3",
   "version": "3.8.10"
  }
 },
 "nbformat": 4,
 "nbformat_minor": 4
}
