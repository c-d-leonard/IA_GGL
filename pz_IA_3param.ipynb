{
 "cells": [
  {
   "cell_type": "code",
   "execution_count": 1,
   "metadata": {},
   "outputs": [],
   "source": [
    "import numpy as np\n",
    "import matplotlib.pyplot as plt\n",
    "from scipy.stats import chi2"
   ]
  },
  {
   "cell_type": "markdown",
   "metadata": {},
   "source": [
    "Display chi square wrt a model containing a combination of photo-z uncertainty as a function of $\\Delta z$ and $\\sigma_z$ and a single A_IA intrinsic alignment parameter across 1 and 2 halo scales."
   ]
  },
  {
   "cell_type": "code",
   "execution_count": 7,
   "metadata": {},
   "outputs": [],
   "source": [
    "# Note the first sigz point is not linearly spaced so should not really be used for plotting atm\n",
    "\n",
    "delz =  ([-0.05, -0.04, -0.03, -0.02, -0.01, 0.0, 0.01, 0.02, 0.03, 0.04, 0.05, 0.06, 0.07, 0.08, 0.09, 0.1, 0.11, 0.12, 0.13, \n",
    "          0.14, 0.15, 0.16, 0.17, 0.18, 0.19, 0.2, 0.21, 0.22]) \n",
    "\n",
    "sigz = [0.0001]\n",
    "\n",
    "AIA = ([-0.1, -0.08, -0.06, -0.04, -0.02, 0.0, 0.02, 0.04, \n",
    "        0.06, 0.08, 0.1, 0.12, 0.14, 0.16, 0.18, 0.2, 0.22, 0.24, 0.26, 0.28, 0.3, 0.32, 0.34, 0.36])"
   ]
  },
  {
   "cell_type": "code",
   "execution_count": 8,
   "metadata": {},
   "outputs": [],
   "source": [
    "# Load data vectors for each case and get the signal to noise.\n",
    "# Load the covariance in order to do this\n",
    "data_cov = np.load('./txtfiles/DESY1_quantities_fromSara/10KsourceBins_1KlensBins/planck2018_params/CovMat.npy')\n",
    "inv_data_cov = np.linalg.inv(data_cov)\n",
    "gamma_IA_fid = np.loadtxt('./txtfiles/DESY1_quantities_fromSara/10KsourceBins_1KlensBins/planck2018_params/GammaIA')\n",
    "endfile = 'DESY1_wfidIA_measured-redshifts-wrong_variableF_DESHoD'\n",
    "\n",
    "#plt.figure()\n",
    "chisquared = np.zeros((len(delz), len(sigz), len(AIA)))\n",
    "for di in range(0,len(delz)):\n",
    "    for si in range(0,len(sigz)):\n",
    "        for ai in range(0,len(AIA)):\n",
    "            theta, data_vec = np.loadtxt('./txtfiles/photo_z_test/gamma_IA_est_'+endfile+'_sigz='+str(sigz[si])+'_delz='+str(delz[di])+'_Aia='+str(AIA[ai])+'.txt', unpack=True)\n",
    "            diff = data_vec - gamma_IA_fid\n",
    "\n",
    "            chisquared[di, si, ai] = np.dot(diff,np.dot(inv_data_cov,diff))"
   ]
  },
  {
   "cell_type": "code",
   "execution_count": null,
   "metadata": {},
   "outputs": [],
   "source": [
    "# Plot one of the theory vectors in the 'decent fit' range alongside the data vector and covariance\n",
    "# Just to make sure it looks okay\n",
    "\n",
    "plt.figure()\n",
    "theta, data_vec = np.loadtxt('./txtfiles/photo_z_test/gamma_IA_est_'+endfile+'_sigz=0.0001_delz=0.1_Aia=0.02.txt', unpack=True)\n",
    "plt.loglog(theta, data_vec, 'o')#, label='$\\delta z$=0.07, $\\sigma$=0.0')\n",
    "plt.errorbar(theta, gamma_IA_fid, yerr = np.sqrt(np.diag(data_cov)), marker='o',ls='none',label='measurement')\n",
    "plt.ylabel('$\\gamma_{IA}(\\\\theta)$')\n",
    "plt.xlabel('$\\\\theta$, arcmin')\n",
    "#plt.title('w/ fid IA, perturb measured source redshift distributions \\n + negative, o positive')\n",
    "#plt.ylim(10**(-5),10**(-2))\n",
    "plt.legend()\n",
    "plt.yscale('log')\n",
    "#plt.savefig('./perturb_measured_source_dNdzs_nofidIA_w1halo_variableF_Planck18paras.png')\n",
    "#plt.close()\n",
    "plt.show()"
   ]
  },
  {
   "cell_type": "code",
   "execution_count": null,
   "metadata": {},
   "outputs": [],
   "source": [
    "# We would really like to be more precise than the above chi-square / DOF.\n",
    "# Really, we want to look at a chi squared distribution with the correct number of degrees of freedom\n",
    "# And calculate the probability that each of our photo-z uncertainty + A_IA models are drawn from this distribution."
   ]
  },
  {
   "cell_type": "code",
   "execution_count": 9,
   "metadata": {},
   "outputs": [],
   "source": [
    "# What we want is the CDF value at the chi square given by each of our parameter choices.\n",
    "# What this tells us is the probability that, given our pz-uncertainty model with given sigz and delz is correct, \n",
    "# we would have got the chi square we got or a lower chi squared (fixing our measured data vector and cov).\n",
    "# Eg if CDF = 0.95, this means that if our model is correct, 95% of the time the chi squared would have been lower.\n",
    "# If we care about the model and the data agreeing within 1 sigma, we look for the case where CDF=0.68 or less\n",
    "# i.e. the case where if our model is correct, 68% of the time we would have drawn a lower chi-squared. \n",
    "\n",
    "DOF = len(diff)\n",
    "\n",
    "cdf_grid = np.zeros((len(delz), len(sigz), len(AIA)))\n",
    "for di in range(0,len(delz)):\n",
    "    for si in range(0,len(sigz)):\n",
    "        for ai in range(0,len(AIA)):\n",
    "            cdf_grid[di,si, ai] = chi2.cdf(chisquared[di, si, ai], DOF)"
   ]
  },
  {
   "cell_type": "code",
   "execution_count": null,
   "metadata": {},
   "outputs": [],
   "source": [
    "# All of our models are rejected at the 1-sigma level (CDF is never as low as 0.68 for our models.)\n",
    "# What about 2-sigma? This is the 95% confidence interval, so we look to CDF=0.95"
   ]
  },
  {
   "cell_type": "code",
   "execution_count": 5,
   "metadata": {},
   "outputs": [
    {
     "ename": "TypeError",
     "evalue": "Input z must be at least a (2, 2) shaped array, but has shape (28, 1)",
     "output_type": "error",
     "traceback": [
      "\u001b[0;31m---------------------------------------------------------------------------\u001b[0m",
      "\u001b[0;31mTypeError\u001b[0m                                 Traceback (most recent call last)",
      "\u001b[0;32m<ipython-input-5-958c52a59e63>\u001b[0m in \u001b[0;36m<module>\u001b[0;34m\u001b[0m\n\u001b[1;32m     10\u001b[0m     \u001b[0mcbar\u001b[0m \u001b[0;34m=\u001b[0m \u001b[0mplt\u001b[0m\u001b[0;34m.\u001b[0m\u001b[0mcolorbar\u001b[0m\u001b[0;34m(\u001b[0m\u001b[0;34m)\u001b[0m\u001b[0;34m\u001b[0m\u001b[0;34m\u001b[0m\u001b[0m\n\u001b[1;32m     11\u001b[0m     \u001b[0mcbar\u001b[0m\u001b[0;34m.\u001b[0m\u001b[0max\u001b[0m\u001b[0;34m.\u001b[0m\u001b[0mtick_params\u001b[0m\u001b[0;34m(\u001b[0m\u001b[0mlabelsize\u001b[0m\u001b[0;34m=\u001b[0m\u001b[0;36m14\u001b[0m\u001b[0;34m)\u001b[0m\u001b[0;34m\u001b[0m\u001b[0;34m\u001b[0m\u001b[0m\n\u001b[0;32m---> 12\u001b[0;31m     \u001b[0mplt\u001b[0m\u001b[0;34m.\u001b[0m\u001b[0mcontour\u001b[0m\u001b[0;34m(\u001b[0m\u001b[0msigz\u001b[0m\u001b[0;34m,\u001b[0m \u001b[0mdelz\u001b[0m\u001b[0;34m,\u001b[0m \u001b[0mcdf_grid\u001b[0m\u001b[0;34m[\u001b[0m\u001b[0;34m:\u001b[0m\u001b[0;34m,\u001b[0m\u001b[0;34m:\u001b[0m\u001b[0;34m,\u001b[0m\u001b[0mai\u001b[0m\u001b[0;34m]\u001b[0m\u001b[0;34m,\u001b[0m \u001b[0;34m[\u001b[0m\u001b[0;36m0.68\u001b[0m\u001b[0;34m]\u001b[0m\u001b[0;34m,\u001b[0m \u001b[0mcolors\u001b[0m\u001b[0;34m=\u001b[0m\u001b[0;34m'k'\u001b[0m\u001b[0;34m,\u001b[0m \u001b[0mlinewidths\u001b[0m\u001b[0;34m=\u001b[0m\u001b[0;36m4\u001b[0m\u001b[0;34m)\u001b[0m\u001b[0;34m\u001b[0m\u001b[0;34m\u001b[0m\u001b[0m\n\u001b[0m\u001b[1;32m     13\u001b[0m     \u001b[0mplt\u001b[0m\u001b[0;34m.\u001b[0m\u001b[0msavefig\u001b[0m\u001b[0;34m(\u001b[0m\u001b[0;34m'./cdf_Planck18_68pcline_AIA='\u001b[0m\u001b[0;34m+\u001b[0m\u001b[0mstr\u001b[0m\u001b[0;34m(\u001b[0m\u001b[0mAIA\u001b[0m\u001b[0;34m[\u001b[0m\u001b[0mai\u001b[0m\u001b[0;34m]\u001b[0m\u001b[0;34m)\u001b[0m\u001b[0;34m+\u001b[0m\u001b[0;34m'.png'\u001b[0m\u001b[0;34m)\u001b[0m\u001b[0;34m\u001b[0m\u001b[0;34m\u001b[0m\u001b[0m\n\u001b[1;32m     14\u001b[0m     \u001b[0mplt\u001b[0m\u001b[0;34m.\u001b[0m\u001b[0mclose\u001b[0m\u001b[0;34m(\u001b[0m\u001b[0;34m)\u001b[0m\u001b[0;34m\u001b[0m\u001b[0;34m\u001b[0m\u001b[0m\n",
      "\u001b[0;32m/data/danielle/software/desc-tjp/lib/python3.6/site-packages/matplotlib/pyplot.py\u001b[0m in \u001b[0;36mcontour\u001b[0;34m(data, *args, **kwargs)\u001b[0m\n\u001b[1;32m   2567\u001b[0m     __ret = gca().contour(\n\u001b[1;32m   2568\u001b[0m         \u001b[0;34m*\u001b[0m\u001b[0margs\u001b[0m\u001b[0;34m,\u001b[0m \u001b[0;34m**\u001b[0m\u001b[0;34m(\u001b[0m\u001b[0;34m{\u001b[0m\u001b[0;34m\"data\"\u001b[0m\u001b[0;34m:\u001b[0m \u001b[0mdata\u001b[0m\u001b[0;34m}\u001b[0m \u001b[0;32mif\u001b[0m \u001b[0mdata\u001b[0m \u001b[0;32mis\u001b[0m \u001b[0;32mnot\u001b[0m \u001b[0;32mNone\u001b[0m \u001b[0;32melse\u001b[0m \u001b[0;34m{\u001b[0m\u001b[0;34m}\u001b[0m\u001b[0;34m)\u001b[0m\u001b[0;34m,\u001b[0m\u001b[0;34m\u001b[0m\u001b[0;34m\u001b[0m\u001b[0m\n\u001b[0;32m-> 2569\u001b[0;31m         **kwargs)\n\u001b[0m\u001b[1;32m   2570\u001b[0m     \u001b[0;32mif\u001b[0m \u001b[0m__ret\u001b[0m\u001b[0;34m.\u001b[0m\u001b[0m_A\u001b[0m \u001b[0;32mis\u001b[0m \u001b[0;32mnot\u001b[0m \u001b[0;32mNone\u001b[0m\u001b[0;34m:\u001b[0m \u001b[0msci\u001b[0m\u001b[0;34m(\u001b[0m\u001b[0m__ret\u001b[0m\u001b[0;34m)\u001b[0m  \u001b[0;31m# noqa\u001b[0m\u001b[0;34m\u001b[0m\u001b[0;34m\u001b[0m\u001b[0m\n\u001b[1;32m   2571\u001b[0m     \u001b[0;32mreturn\u001b[0m \u001b[0m__ret\u001b[0m\u001b[0;34m\u001b[0m\u001b[0;34m\u001b[0m\u001b[0m\n",
      "\u001b[0;32m/data/danielle/software/desc-tjp/lib/python3.6/site-packages/matplotlib/__init__.py\u001b[0m in \u001b[0;36minner\u001b[0;34m(ax, data, *args, **kwargs)\u001b[0m\n\u001b[1;32m   1445\u001b[0m     \u001b[0;32mdef\u001b[0m \u001b[0minner\u001b[0m\u001b[0;34m(\u001b[0m\u001b[0max\u001b[0m\u001b[0;34m,\u001b[0m \u001b[0;34m*\u001b[0m\u001b[0margs\u001b[0m\u001b[0;34m,\u001b[0m \u001b[0mdata\u001b[0m\u001b[0;34m=\u001b[0m\u001b[0;32mNone\u001b[0m\u001b[0;34m,\u001b[0m \u001b[0;34m**\u001b[0m\u001b[0mkwargs\u001b[0m\u001b[0;34m)\u001b[0m\u001b[0;34m:\u001b[0m\u001b[0;34m\u001b[0m\u001b[0;34m\u001b[0m\u001b[0m\n\u001b[1;32m   1446\u001b[0m         \u001b[0;32mif\u001b[0m \u001b[0mdata\u001b[0m \u001b[0;32mis\u001b[0m \u001b[0;32mNone\u001b[0m\u001b[0;34m:\u001b[0m\u001b[0;34m\u001b[0m\u001b[0;34m\u001b[0m\u001b[0m\n\u001b[0;32m-> 1447\u001b[0;31m             \u001b[0;32mreturn\u001b[0m \u001b[0mfunc\u001b[0m\u001b[0;34m(\u001b[0m\u001b[0max\u001b[0m\u001b[0;34m,\u001b[0m \u001b[0;34m*\u001b[0m\u001b[0mmap\u001b[0m\u001b[0;34m(\u001b[0m\u001b[0msanitize_sequence\u001b[0m\u001b[0;34m,\u001b[0m \u001b[0margs\u001b[0m\u001b[0;34m)\u001b[0m\u001b[0;34m,\u001b[0m \u001b[0;34m**\u001b[0m\u001b[0mkwargs\u001b[0m\u001b[0;34m)\u001b[0m\u001b[0;34m\u001b[0m\u001b[0;34m\u001b[0m\u001b[0m\n\u001b[0m\u001b[1;32m   1448\u001b[0m \u001b[0;34m\u001b[0m\u001b[0m\n\u001b[1;32m   1449\u001b[0m         \u001b[0mbound\u001b[0m \u001b[0;34m=\u001b[0m \u001b[0mnew_sig\u001b[0m\u001b[0;34m.\u001b[0m\u001b[0mbind\u001b[0m\u001b[0;34m(\u001b[0m\u001b[0max\u001b[0m\u001b[0;34m,\u001b[0m \u001b[0;34m*\u001b[0m\u001b[0margs\u001b[0m\u001b[0;34m,\u001b[0m \u001b[0;34m**\u001b[0m\u001b[0mkwargs\u001b[0m\u001b[0;34m)\u001b[0m\u001b[0;34m\u001b[0m\u001b[0;34m\u001b[0m\u001b[0m\n",
      "\u001b[0;32m/data/danielle/software/desc-tjp/lib/python3.6/site-packages/matplotlib/axes/_axes.py\u001b[0m in \u001b[0;36mcontour\u001b[0;34m(self, *args, **kwargs)\u001b[0m\n\u001b[1;32m   6325\u001b[0m     \u001b[0;32mdef\u001b[0m \u001b[0mcontour\u001b[0m\u001b[0;34m(\u001b[0m\u001b[0mself\u001b[0m\u001b[0;34m,\u001b[0m \u001b[0;34m*\u001b[0m\u001b[0margs\u001b[0m\u001b[0;34m,\u001b[0m \u001b[0;34m**\u001b[0m\u001b[0mkwargs\u001b[0m\u001b[0;34m)\u001b[0m\u001b[0;34m:\u001b[0m\u001b[0;34m\u001b[0m\u001b[0;34m\u001b[0m\u001b[0m\n\u001b[1;32m   6326\u001b[0m         \u001b[0mkwargs\u001b[0m\u001b[0;34m[\u001b[0m\u001b[0;34m'filled'\u001b[0m\u001b[0;34m]\u001b[0m \u001b[0;34m=\u001b[0m \u001b[0;32mFalse\u001b[0m\u001b[0;34m\u001b[0m\u001b[0;34m\u001b[0m\u001b[0m\n\u001b[0;32m-> 6327\u001b[0;31m         \u001b[0mcontours\u001b[0m \u001b[0;34m=\u001b[0m \u001b[0mmcontour\u001b[0m\u001b[0;34m.\u001b[0m\u001b[0mQuadContourSet\u001b[0m\u001b[0;34m(\u001b[0m\u001b[0mself\u001b[0m\u001b[0;34m,\u001b[0m \u001b[0;34m*\u001b[0m\u001b[0margs\u001b[0m\u001b[0;34m,\u001b[0m \u001b[0;34m**\u001b[0m\u001b[0mkwargs\u001b[0m\u001b[0;34m)\u001b[0m\u001b[0;34m\u001b[0m\u001b[0;34m\u001b[0m\u001b[0m\n\u001b[0m\u001b[1;32m   6328\u001b[0m         \u001b[0mself\u001b[0m\u001b[0;34m.\u001b[0m\u001b[0m_request_autoscale_view\u001b[0m\u001b[0;34m(\u001b[0m\u001b[0;34m)\u001b[0m\u001b[0;34m\u001b[0m\u001b[0;34m\u001b[0m\u001b[0m\n\u001b[1;32m   6329\u001b[0m         \u001b[0;32mreturn\u001b[0m \u001b[0mcontours\u001b[0m\u001b[0;34m\u001b[0m\u001b[0;34m\u001b[0m\u001b[0m\n",
      "\u001b[0;32m/data/danielle/software/desc-tjp/lib/python3.6/site-packages/matplotlib/contour.py\u001b[0m in \u001b[0;36m__init__\u001b[0;34m(self, ax, levels, filled, linewidths, linestyles, hatches, alpha, origin, extent, cmap, colors, norm, vmin, vmax, extend, antialiased, nchunk, locator, transform, *args, **kwargs)\u001b[0m\n\u001b[1;32m    814\u001b[0m         \u001b[0mself\u001b[0m\u001b[0;34m.\u001b[0m\u001b[0m_transform\u001b[0m \u001b[0;34m=\u001b[0m \u001b[0mtransform\u001b[0m\u001b[0;34m\u001b[0m\u001b[0;34m\u001b[0m\u001b[0m\n\u001b[1;32m    815\u001b[0m \u001b[0;34m\u001b[0m\u001b[0m\n\u001b[0;32m--> 816\u001b[0;31m         \u001b[0mkwargs\u001b[0m \u001b[0;34m=\u001b[0m \u001b[0mself\u001b[0m\u001b[0;34m.\u001b[0m\u001b[0m_process_args\u001b[0m\u001b[0;34m(\u001b[0m\u001b[0;34m*\u001b[0m\u001b[0margs\u001b[0m\u001b[0;34m,\u001b[0m \u001b[0;34m**\u001b[0m\u001b[0mkwargs\u001b[0m\u001b[0;34m)\u001b[0m\u001b[0;34m\u001b[0m\u001b[0;34m\u001b[0m\u001b[0m\n\u001b[0m\u001b[1;32m    817\u001b[0m         \u001b[0mself\u001b[0m\u001b[0;34m.\u001b[0m\u001b[0m_process_levels\u001b[0m\u001b[0;34m(\u001b[0m\u001b[0;34m)\u001b[0m\u001b[0;34m\u001b[0m\u001b[0;34m\u001b[0m\u001b[0m\n\u001b[1;32m    818\u001b[0m \u001b[0;34m\u001b[0m\u001b[0m\n",
      "\u001b[0;32m/data/danielle/software/desc-tjp/lib/python3.6/site-packages/matplotlib/contour.py\u001b[0m in \u001b[0;36m_process_args\u001b[0;34m(self, corner_mask, *args, **kwargs)\u001b[0m\n\u001b[1;32m   1428\u001b[0m             \u001b[0mself\u001b[0m\u001b[0;34m.\u001b[0m\u001b[0m_corner_mask\u001b[0m \u001b[0;34m=\u001b[0m \u001b[0mcorner_mask\u001b[0m\u001b[0;34m\u001b[0m\u001b[0;34m\u001b[0m\u001b[0m\n\u001b[1;32m   1429\u001b[0m \u001b[0;34m\u001b[0m\u001b[0m\n\u001b[0;32m-> 1430\u001b[0;31m             \u001b[0mx\u001b[0m\u001b[0;34m,\u001b[0m \u001b[0my\u001b[0m\u001b[0;34m,\u001b[0m \u001b[0mz\u001b[0m \u001b[0;34m=\u001b[0m \u001b[0mself\u001b[0m\u001b[0;34m.\u001b[0m\u001b[0m_contour_args\u001b[0m\u001b[0;34m(\u001b[0m\u001b[0margs\u001b[0m\u001b[0;34m,\u001b[0m \u001b[0mkwargs\u001b[0m\u001b[0;34m)\u001b[0m\u001b[0;34m\u001b[0m\u001b[0;34m\u001b[0m\u001b[0m\n\u001b[0m\u001b[1;32m   1431\u001b[0m \u001b[0;34m\u001b[0m\u001b[0m\n\u001b[1;32m   1432\u001b[0m             \u001b[0m_mask\u001b[0m \u001b[0;34m=\u001b[0m \u001b[0mma\u001b[0m\u001b[0;34m.\u001b[0m\u001b[0mgetmask\u001b[0m\u001b[0;34m(\u001b[0m\u001b[0mz\u001b[0m\u001b[0;34m)\u001b[0m\u001b[0;34m\u001b[0m\u001b[0;34m\u001b[0m\u001b[0m\n",
      "\u001b[0;32m/data/danielle/software/desc-tjp/lib/python3.6/site-packages/matplotlib/contour.py\u001b[0m in \u001b[0;36m_contour_args\u001b[0;34m(self, args, kwargs)\u001b[0m\n\u001b[1;32m   1486\u001b[0m             \u001b[0margs\u001b[0m \u001b[0;34m=\u001b[0m \u001b[0margs\u001b[0m\u001b[0;34m[\u001b[0m\u001b[0;36m1\u001b[0m\u001b[0;34m:\u001b[0m\u001b[0;34m]\u001b[0m\u001b[0;34m\u001b[0m\u001b[0;34m\u001b[0m\u001b[0m\n\u001b[1;32m   1487\u001b[0m         \u001b[0;32melif\u001b[0m \u001b[0mNargs\u001b[0m \u001b[0;34m<=\u001b[0m \u001b[0;36m4\u001b[0m\u001b[0;34m:\u001b[0m\u001b[0;34m\u001b[0m\u001b[0;34m\u001b[0m\u001b[0m\n\u001b[0;32m-> 1488\u001b[0;31m             \u001b[0mx\u001b[0m\u001b[0;34m,\u001b[0m \u001b[0my\u001b[0m\u001b[0;34m,\u001b[0m \u001b[0mz\u001b[0m \u001b[0;34m=\u001b[0m \u001b[0mself\u001b[0m\u001b[0;34m.\u001b[0m\u001b[0m_check_xyz\u001b[0m\u001b[0;34m(\u001b[0m\u001b[0margs\u001b[0m\u001b[0;34m[\u001b[0m\u001b[0;34m:\u001b[0m\u001b[0;36m3\u001b[0m\u001b[0;34m]\u001b[0m\u001b[0;34m,\u001b[0m \u001b[0mkwargs\u001b[0m\u001b[0;34m)\u001b[0m\u001b[0;34m\u001b[0m\u001b[0;34m\u001b[0m\u001b[0m\n\u001b[0m\u001b[1;32m   1489\u001b[0m             \u001b[0margs\u001b[0m \u001b[0;34m=\u001b[0m \u001b[0margs\u001b[0m\u001b[0;34m[\u001b[0m\u001b[0;36m3\u001b[0m\u001b[0;34m:\u001b[0m\u001b[0;34m]\u001b[0m\u001b[0;34m\u001b[0m\u001b[0;34m\u001b[0m\u001b[0m\n\u001b[1;32m   1490\u001b[0m         \u001b[0;32melse\u001b[0m\u001b[0;34m:\u001b[0m\u001b[0;34m\u001b[0m\u001b[0;34m\u001b[0m\u001b[0m\n",
      "\u001b[0;32m/data/danielle/software/desc-tjp/lib/python3.6/site-packages/matplotlib/contour.py\u001b[0m in \u001b[0;36m_check_xyz\u001b[0;34m(self, args, kwargs)\u001b[0m\n\u001b[1;32m   1519\u001b[0m             \u001b[0;32mraise\u001b[0m \u001b[0mTypeError\u001b[0m\u001b[0;34m(\u001b[0m\u001b[0;34mf\"Input z must be 2D, not {z.ndim}D\"\u001b[0m\u001b[0;34m)\u001b[0m\u001b[0;34m\u001b[0m\u001b[0;34m\u001b[0m\u001b[0m\n\u001b[1;32m   1520\u001b[0m         \u001b[0;32mif\u001b[0m \u001b[0mz\u001b[0m\u001b[0;34m.\u001b[0m\u001b[0mshape\u001b[0m\u001b[0;34m[\u001b[0m\u001b[0;36m0\u001b[0m\u001b[0;34m]\u001b[0m \u001b[0;34m<\u001b[0m \u001b[0;36m2\u001b[0m \u001b[0;32mor\u001b[0m \u001b[0mz\u001b[0m\u001b[0;34m.\u001b[0m\u001b[0mshape\u001b[0m\u001b[0;34m[\u001b[0m\u001b[0;36m1\u001b[0m\u001b[0;34m]\u001b[0m \u001b[0;34m<\u001b[0m \u001b[0;36m2\u001b[0m\u001b[0;34m:\u001b[0m\u001b[0;34m\u001b[0m\u001b[0;34m\u001b[0m\u001b[0m\n\u001b[0;32m-> 1521\u001b[0;31m             raise TypeError(f\"Input z must be at least a (2, 2) shaped array, \"\n\u001b[0m\u001b[1;32m   1522\u001b[0m                             f\"but has shape {z.shape}\")\n\u001b[1;32m   1523\u001b[0m         \u001b[0mNy\u001b[0m\u001b[0;34m,\u001b[0m \u001b[0mNx\u001b[0m \u001b[0;34m=\u001b[0m \u001b[0mz\u001b[0m\u001b[0;34m.\u001b[0m\u001b[0mshape\u001b[0m\u001b[0;34m\u001b[0m\u001b[0;34m\u001b[0m\u001b[0m\n",
      "\u001b[0;31mTypeError\u001b[0m: Input z must be at least a (2, 2) shaped array, but has shape (28, 1)"
     ]
    },
    {
     "data": {
      "image/png": "[encoded data removed]",
      "text/plain": [
       "<Figure size 432x288 with 2 Axes>"
      ]
     },
     "metadata": {
      "needs_background": "light"
     },
     "output_type": "display_data"
    }
   ],
   "source": [
    "# Plot the cdf as a function of photo-z params\n",
    "for ai in range(0,len(AIA)):\n",
    "    plt.figure()\n",
    "    plt.imshow(cdf_grid[:,:,ai], extent = [0.0, 0.08, 0.1,0.0], interpolation='spline36',aspect=0.5)\n",
    "    plt.xlabel('$\\sigma_z$', fontsize=14)\n",
    "    plt.ylabel('$\\Delta z$', fontsize=14)\n",
    "    plt.xticks(fontsize=12)\n",
    "    plt.yticks(fontsize=12)\n",
    "    plt.title('CDF of $\\chi^2$ distribution, $A_{IA}=$'+str(AIA[ai]), fontsize=14)\n",
    "    cbar = plt.colorbar()\n",
    "    cbar.ax.tick_params(labelsize=14)\n",
    "    plt.contour(sigz, delz, cdf_grid[:,:,ai], [0.68], colors='k', linewidths=4)\n",
    "    plt.savefig('./cdf_Planck18_68pcline_AIA='+str(AIA[ai])+'.png')\n",
    "    plt.close()"
   ]
  },
  {
   "cell_type": "code",
   "execution_count": 13,
   "metadata": {},
   "outputs": [],
   "source": [
    "min_of_arr = np.amin(cdf_grid)"
   ]
  },
  {
   "cell_type": "code",
   "execution_count": 15,
   "metadata": {},
   "outputs": [
    {
     "name": "stdout",
     "output_type": "stream",
     "text": [
      "min indices = 14 , 0 , 11\n",
      "delta= 0.09  sigz= 0.0001  AIA= 0.12\n"
     ]
    }
   ],
   "source": [
    "for di in range(0,len(delz)):\n",
    "    for ai in range(0,len(AIA)):\n",
    "        if (cdf_grid[di,si,ai]==min_of_arr):\n",
    "            print('min indices =',di,',',si,',',ai)\n",
    "            print('delta=', delz[di],' sigz=', sigz[si],' AIA=', AIA[ai])\n",
    "                      "
   ]
  },
  {
   "cell_type": "code",
   "execution_count": 26,
   "metadata": {},
   "outputs": [
    {
     "data": {
      "image/png": "[encoded data removed]",
      "text/plain": [
       "<Figure size 432x288 with 1 Axes>"
      ]
     },
     "metadata": {
      "needs_background": "light"
     },
     "output_type": "display_data"
    }
   ],
   "source": [
    "colorbar_info = plt.cm.ScalarMappable(cmap='magma')\n",
    "\n",
    "# We seem to fairly unambiguously favour sigma_z=0, so let's restrict to that space for now and explore a bit.\n",
    "plt.figure()\n",
    "plt.imshow(cdf_grid[:,0,:], extent = [-0.1, 0.36, 0.22, -0.05], interpolation='spline36',aspect=1.5, cmap='magma')\n",
    "plt.xlabel('$A_{IA}$', fontsize=16)\n",
    "plt.ylabel('$\\Delta z$', fontsize=16)\n",
    "plt.xticks(fontsize=12)\n",
    "plt.yticks(fontsize=12)\n",
    "#plt.title('CDF of $\\chi^2$ distribution, $\\sigma_z=0$', fontsize=14)\n",
    "#cbar = plt.colorbar(colorbar_info)\n",
    "cbar.ax.tick_params(labelsize=14)\n",
    "plt.contour(AIA, delz, cdf_grid[:,0,:], [0.68,0.95], colors='k', linewidths=2)\n",
    "#plt.contour(AIA, delz, cdf_grid[:,0,:], [0.95], colors='k', linestyle=':', linewidth=3,)\n",
    "plt.tight_layout()\n",
    "plt.savefig('./cdf_Planck18_sigz=0.png')\n",
    "plt.show()"
   ]
  },
  {
   "cell_type": "code",
   "execution_count": null,
   "metadata": {},
   "outputs": [],
   "source": [
    "# So there are some regions where our model is acceptable within 2sigma, at higher delz and very low sigz."
   ]
  },
  {
   "cell_type": "code",
   "execution_count": null,
   "metadata": {},
   "outputs": [],
   "source": [
    "# Plot the cdf as a function of photo-z params\n",
    "plt.figure()\n",
    "#plt.imshow(cdf_grid[8:19,:], extent = [0.01, 0.1, 0, -0.1])#, aspect=2.0/3.0)\n",
    "#plt.imshow(cdf_grid[18:,0:6], extent = [0.01, 0.06, 0.1,0.0], interpolation='spline36',aspect=0.6)\n",
    "plt.xlabel('$\\sigma_z$', fontsize=14)\n",
    "plt.ylabel('$\\Delta z$', fontsize=14)\n",
    "plt.xticks(fontsize=12)\n",
    "plt.yticks(fontsize=12)\n",
    "plt.title('CDF of $\\chi^2$ distribution', fontsize=14)\n",
    "#cbar = plt.colorbar()\n",
    "#cbar.ax.tick_params(labelsize=14)\n",
    "plt.contour(sigz[0:6], delz[18:], cdf_grid[18:,0:6], [0.95], colors='k', linewidths=4)\n",
    "#plt.savefig('./pvalues_w1halo_variableF_Planck18.png')\n",
    "plt.show()"
   ]
  },
  {
   "cell_type": "code",
   "execution_count": null,
   "metadata": {},
   "outputs": [],
   "source": [
    "#plt.imshow(chisquared_cut/DOF_cut, extent = [0.01, 0.1, 0.0, -0.18])\n",
    "#plt.xlabel('$\\sigma_z$')\n",
    "#plt.ylabel('$\\Delta z$')\n",
    "#plt.title('Reduced $\\chi^2$ (omit smallest angle data point)')\n",
    "#plt.colorbar()\n",
    "#plt.savefig('./reduced_chisq_cutdvec.png')"
   ]
  },
  {
   "cell_type": "code",
   "execution_count": null,
   "metadata": {},
   "outputs": [],
   "source": [
    "show_bad_regions = np.zeros((len(delz), len(sigz)))\n",
    "show_bad_regions_cut = np.zeros((len(delz), len(sigz)))\n",
    "for zi in range(len(delz)):\n",
    "    for si in range(len(sigz)):\n",
    "        if (chisquared[zi, si] / DOF > 1.5):\n",
    "            show_bad_regions[zi,si]=0.0\n",
    "        else:\n",
    "            show_bad_regions[zi,si] = chisquared[zi,si] / DOF\n",
    "            \n",
    "#for zi in range(len(delz)):\n",
    "#    for si in range(len(sigz)):\n",
    "#        if (chisquared_cut[zi, si] / DOF_cut > 1.0):\n",
    "#            show_bad_regions_cut[zi,si]=0.0\n",
    "#        else:\n",
    "#            show_bad_regions_cut[zi,si] = chisquared_cut[zi,si] / DOF_cut\n",
    "            "
   ]
  },
  {
   "cell_type": "code",
   "execution_count": null,
   "metadata": {},
   "outputs": [],
   "source": [
    "plt.imshow(show_bad_regions, extent = [0.01, 0.1, 0.1, -0.18])\n",
    "plt.title('Yellow region has reduced $\\chi^2<1.5$')\n",
    "plt.xlabel('$\\sigma_z$')\n",
    "plt.ylabel('$\\Delta z$')\n",
    "plt.colorbar()\n",
    "plt.tight_layout()\n",
    "plt.savefig('./confusion_region_fulldvec_shift_one_sample_w1halo_variableF.png')"
   ]
  },
  {
   "cell_type": "code",
   "execution_count": null,
   "metadata": {},
   "outputs": [],
   "source": [
    "#plt.imshow(show_bad_regions_cut, extent = [0.01, 0.1, 0.0, -0.18])\n",
    "#plt.title('Non-zero region has reduced $\\chi^2<1$ (cut data vector)')\n",
    "#plt.xlabel('$\\sigma_z$')\n",
    "#plt.ylabel('$\\Delta z$')\n",
    "#plt.colorbar()\n",
    "#plt.savefig('./confusion_region_cutdvec.png')"
   ]
  },
  {
   "cell_type": "markdown",
   "metadata": {},
   "source": [
    "We are interested in also considering the case where we find the best-fit pz parameters for just the positive data points (all but the first one) and just the negative data points (the first one)."
   ]
  },
  {
   "cell_type": "code",
   "execution_count": null,
   "metadata": {},
   "outputs": [],
   "source": [
    "gamma_IA_pos = gamma_IA_fid[1:]\n",
    "data_cov_pos = data_cov[1:,1:]\n",
    "inv_data_cov_pos = np.linalg.inv(data_cov_pos)"
   ]
  },
  {
   "cell_type": "code",
   "execution_count": null,
   "metadata": {},
   "outputs": [],
   "source": [
    "#plt.figure()\n",
    "chisquared_pos = np.zeros((len(delz), len(sigz)))\n",
    "for di in range(0,len(delz)):\n",
    "    for si in range(0,len(sigz)):\n",
    "        theta, data_vec = np.loadtxt('./txtfiles/photo_z_test/gamma_IA_est_DESY1_no_fidIA_measured-redshifts-wrong_variableF_DESHoD_sigma='+str(sigz[si])+'deltaz='+str(delz[di])+'.txt', unpack=True)\n",
    "        theta_pos = theta[1:]\n",
    "        data_vec_pos = data_vec[1:]\n",
    "        #plt.loglog(theta, -1.0*data_vec, 'o', label='$\\delta z$='+str(delz[di])+', $\\sigma$='+str(sigz[si]))\n",
    "        diff = data_vec_pos - gamma_IA_pos\n",
    "        #print(\"data_vec=\", data_vec)\n",
    "        #print(\"gamma_IA_fid=\", gamma_IA_fid)\n",
    "        #print(diff)\n",
    "        #chisquared_cut[di, si] = np.dot(diff[1:],np.dot(inv_data_cov_cut,diff[1:]))\n",
    "        chisquared_pos[di, si] = np.dot(diff,np.dot(inv_data_cov_pos,diff))\n",
    "#plt.ylabel('$\\gamma_{IA}(\\\\theta)$')\n",
    "#plt.xlabel('$\\\\theta$, arcmin')\n",
    "#plt.title('w/ fid IA, perturb measured source redshift distributions \\n + negative, o positive')\n",
    "#plt.ylim(10**(-8),10**(-2))\n",
    "#plt.legend()\n",
    "#plt.savefig('./perturb_measured_source_dNdzs_nofidIA_w1halo_variableF_Planck18paras.png')\n",
    "#plt.close()\n",
    "#plt.show()"
   ]
  },
  {
   "cell_type": "code",
   "execution_count": null,
   "metadata": {},
   "outputs": [],
   "source": [
    "DOF_pos = DOF-1"
   ]
  },
  {
   "cell_type": "code",
   "execution_count": null,
   "metadata": {},
   "outputs": [],
   "source": [
    "cdf_grid_pos = np.zeros((len(delz), len(sigz)))\n",
    "for di in range(0,len(delz)):\n",
    "    for si in range(0,len(sigz)):\n",
    "        cdf_grid_pos[di,si] = chi2.cdf(chisquared_pos[di, si], DOF_pos)"
   ]
  },
  {
   "cell_type": "code",
   "execution_count": null,
   "metadata": {},
   "outputs": [],
   "source": [
    "ind_min_pos = np.where(cdf_grid_pos == np.amin(cdf_grid_pos))"
   ]
  },
  {
   "cell_type": "code",
   "execution_count": null,
   "metadata": {},
   "outputs": [],
   "source": [
    "cdf_grid_pos[ind_min_pos]"
   ]
  },
  {
   "cell_type": "code",
   "execution_count": null,
   "metadata": {},
   "outputs": [],
   "source": [
    "# Thesea are then the best fit pz parameters in the range.\n",
    "print(delz[ind_min_pos[0][0]])\n",
    "print(sigz[ind_min_pos[1][0]])"
   ]
  },
  {
   "cell_type": "code",
   "execution_count": null,
   "metadata": {},
   "outputs": [],
   "source": [
    "cdf_grid_pos"
   ]
  },
  {
   "cell_type": "code",
   "execution_count": null,
   "metadata": {},
   "outputs": [],
   "source": []
  },
  {
   "cell_type": "code",
   "execution_count": null,
   "metadata": {},
   "outputs": [],
   "source": [
    "# Plot the cdf as a function of photo-z params\n",
    "plt.figure()\n",
    "plt.imshow(cdf_grid_pos[8:,:], extent = [0.0, 0.1, 0.1, -0.1], aspect=1.0/2.0)\n",
    "#plt.imshow(cdf_grid_pos, extent = [0.0, 0.1, 0.1, -0.18], aspect=1.0/2.0)\n",
    "plt.xlabel('$\\sigma_z$', fontsize=14)\n",
    "plt.ylabel('$\\Delta z$', fontsize=14)\n",
    "plt.xticks(fontsize=12)\n",
    "plt.yticks(fontsize=12)\n",
    "plt.title('CDF of $\\chi^2$ dist - +ve data pts', fontsize=14)\n",
    "#cbar = plt.colorbar()\n",
    "#cbar.ax.tick_params(labelsize=14)\n",
    "plt.contour(sigz, delz[8:], cdf_grid_pos[8:,:], [0.68], colors='#FFFFFF', linewidths=4)\n",
    "#plt.savefig('./pvalues_w1halo_variableF_Planck18.png')\n",
    "plt.show()"
   ]
  },
  {
   "cell_type": "code",
   "execution_count": null,
   "metadata": {},
   "outputs": [],
   "source": [
    "gamma_IA_neg = gamma_IA_fid[0]\n",
    "data_cov_neg = data_cov[0,0]\n",
    "inv_data_cov_neg = 1./data_cov_neg"
   ]
  },
  {
   "cell_type": "code",
   "execution_count": null,
   "metadata": {},
   "outputs": [],
   "source": [
    "#plt.figure()\n",
    "chisquared_neg = np.zeros((len(delz), len(sigz)))\n",
    "for di in range(0,len(delz)):\n",
    "    for si in range(0,len(sigz)):\n",
    "        theta, data_vec = np.loadtxt('./txtfiles/photo_z_test/gamma_IA_est_DESY1_no_fidIA_measured-redshifts-wrong_variableF_DESHoD_sigma='+str(sigz[si])+'deltaz='+str(delz[di])+'.txt', unpack=True)\n",
    "        theta_neg = theta[0]\n",
    "        data_vec_neg = data_vec[0]\n",
    "        #plt.loglog(theta, -1.0*data_vec, 'o', label='$\\delta z$='+str(delz[di])+', $\\sigma$='+str(sigz[si]))\n",
    "        diff = data_vec_neg - gamma_IA_neg\n",
    "        #print(\"data_vec=\", data_vec)\n",
    "        #print(\"gamma_IA_fid=\", gamma_IA_fid)\n",
    "        #print(diff)\n",
    "        #chisquared_cut[di, si] = np.dot(diff[1:],np.dot(inv_data_cov_cut,diff[1:]))\n",
    "        chisquared_neg[di, si] = diff**2 * inv_data_cov_neg\n",
    "#plt.ylabel('$\\gamma_{IA}(\\\\theta)$')\n",
    "#plt.xlabel('$\\\\theta$, arcmin')\n",
    "#plt.title('w/ fid IA, perturb measured source redshift distributions \\n + negative, o positive')\n",
    "#plt.ylim(10**(-8),10**(-2))\n",
    "#plt.legend()\n",
    "#plt.savefig('./perturb_measured_source_dNdzs_nofidIA_w1halo_variableF_Planck18paras.png')\n",
    "#plt.close()\n",
    "#plt.show()"
   ]
  },
  {
   "cell_type": "code",
   "execution_count": null,
   "metadata": {},
   "outputs": [],
   "source": [
    "DOF_neg = 1"
   ]
  },
  {
   "cell_type": "code",
   "execution_count": null,
   "metadata": {},
   "outputs": [],
   "source": [
    "cdf_grid_neg = np.zeros((len(delz), len(sigz)))\n",
    "for di in range(0,len(delz)):\n",
    "    for si in range(0,len(sigz)):\n",
    "        cdf_grid_neg[di,si] = chi2.cdf(chisquared_neg[di, si], DOF_neg)"
   ]
  },
  {
   "cell_type": "code",
   "execution_count": null,
   "metadata": {},
   "outputs": [],
   "source": [
    "ind_min_neg = np.where(cdf_grid_neg == np.amin(cdf_grid_neg))"
   ]
  },
  {
   "cell_type": "code",
   "execution_count": null,
   "metadata": {},
   "outputs": [],
   "source": [
    "ind_min_neg"
   ]
  },
  {
   "cell_type": "code",
   "execution_count": null,
   "metadata": {},
   "outputs": [],
   "source": [
    "print(cdf_grid_neg[ind_min_neg])"
   ]
  },
  {
   "cell_type": "code",
   "execution_count": null,
   "metadata": {},
   "outputs": [],
   "source": [
    "print(delz[ind_min_neg[0][0]])\n",
    "print(sigz[ind_min_neg[1][0]])"
   ]
  },
  {
   "cell_type": "code",
   "execution_count": null,
   "metadata": {},
   "outputs": [],
   "source": [
    "# Plot the cdf as a function of photo-z params\n",
    "plt.figure()\n",
    "#plt.imshow(cdf_grid[8:19,:], extent = [0.01, 0.1, 0, -0.1])#, aspect=2.0/3.0)\n",
    "plt.imshow(cdf_grid_neg, extent = [0.0, 0.1, 0.1, -0.18])#, aspect=2.0/3.0)\n",
    "plt.xlabel('$\\sigma_z$', fontsize=14)\n",
    "plt.ylabel('$\\Delta z$', fontsize=14)\n",
    "plt.xticks(fontsize=12)\n",
    "plt.yticks(fontsize=12)\n",
    "plt.title('CDF of $\\chi^2$ dist -ve data points', fontsize=14)\n",
    "cbar = plt.colorbar()\n",
    "cbar.ax.tick_params(labelsize=14)\n",
    "plt.contour(sigz, delz, cdf_grid_neg, [0.68], colors='#FFFFFF', linewidths=4)\n",
    "#plt.savefig('./pvalues_w1halo_variableF_Planck18.png')\n",
    "plt.show()"
   ]
  },
  {
   "cell_type": "code",
   "execution_count": null,
   "metadata": {},
   "outputs": [],
   "source": []
  },
  {
   "cell_type": "code",
   "execution_count": null,
   "metadata": {},
   "outputs": [],
   "source": []
  }
 ],
 "metadata": {
  "kernelspec": {
   "display_name": "desc-tjp",
   "language": "python",
   "name": "desc-tjp"
  },
  "language_info": {
   "codemirror_mode": {
    "name": "ipython",
    "version": 3
   },
   "file_extension": ".py",
   "mimetype": "text/x-python",
   "name": "python",
   "nbconvert_exporter": "python",
   "pygments_lexer": "ipython3",
   "version": "3.6.9"
  }
 },
 "nbformat": 4,
 "nbformat_minor": 4
}
