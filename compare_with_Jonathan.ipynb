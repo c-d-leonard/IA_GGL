{
 "cells": [
  {
   "cell_type": "code",
   "execution_count": 1,
   "id": "e13a5e79",
   "metadata": {},
   "outputs": [],
   "source": [
    "import numpy as np\n",
    "import shared_functions_wlp_wls as s"
   ]
  },
  {
   "cell_type": "code",
   "execution_count": 2,
   "id": "8bce9de1",
   "metadata": {},
   "outputs": [
    {
     "name": "stdout",
     "output_type": "stream",
     "text": [
      "OmegaM= 0.341\n"
     ]
    }
   ],
   "source": [
    "rhom, rvir = s.Rhalo(10**13, 'DESY1')"
   ]
  },
  {
   "cell_type": "code",
   "execution_count": null,
   "id": "ded9f804",
   "metadata": {},
   "outputs": [],
   "source": [
    "rhom"
   ]
  },
  {
   "cell_type": "code",
   "execution_count": null,
   "id": "95719e04",
   "metadata": {},
   "outputs": [],
   "source": [
    "rvir"
   ]
  },
  {
   "cell_type": "code",
   "execution_count": null,
   "id": "6742325f",
   "metadata": {},
   "outputs": [],
   "source": [
    "cvir = s.cvir_ldm(10**13)"
   ]
  },
  {
   "cell_type": "code",
   "execution_count": null,
   "id": "ffd82636",
   "metadata": {},
   "outputs": [],
   "source": [
    "cvir"
   ]
  },
  {
   "cell_type": "code",
   "execution_count": null,
   "id": "872c062a",
   "metadata": {},
   "outputs": [],
   "source": [
    "rho_s = s.rho_s(cvir, rvir, 10**13)"
   ]
  },
  {
   "cell_type": "code",
   "execution_count": null,
   "id": "f681965d",
   "metadata": {},
   "outputs": [],
   "source": [
    "print(rho_s)"
   ]
  },
  {
   "cell_type": "code",
   "execution_count": null,
   "id": "0e35792e",
   "metadata": {},
   "outputs": [],
   "source": [
    "rhom = s."
   ]
  }
 ],
 "metadata": {
  "kernelspec": {
   "display_name": "desc-tjp",
   "language": "python",
   "name": "desc-tjp"
  },
  "language_info": {
   "codemirror_mode": {
    "name": "ipython",
    "version": 3
   },
   "file_extension": ".py",
   "mimetype": "text/x-python",
   "name": "python",
   "nbconvert_exporter": "python",
   "pygments_lexer": "ipython3",
   "version": "3.8.10"
  }
 },
 "nbformat": 4,
 "nbformat_minor": 5
}
