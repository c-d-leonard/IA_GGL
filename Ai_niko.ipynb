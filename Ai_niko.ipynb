{
 "cells": [
  {
   "cell_type": "code",
   "execution_count": 1,
   "metadata": {},
   "outputs": [],
   "source": [
    "import pyccl as ccl\n",
    "import A_IA_funcs as ai\n",
    "import numpy as np"
   ]
  },
  {
   "cell_type": "code",
   "execution_count": 2,
   "metadata": {},
   "outputs": [],
   "source": [
    "# Define a CCL cosmology - use the built-in default here.\n",
    "cosmo = ccl.Cosmology(Omega_c=0.3156-0.0492, Omega_b=0.0492, h=0.6727, n_s=0.9645, sigma8=0.831)"
   ]
  },
  {
   "cell_type": "code",
   "execution_count": 3,
   "metadata": {},
   "outputs": [],
   "source": [
    "z = np.linspace(0,4.0, 1000)"
   ]
  },
  {
   "cell_type": "code",
   "execution_count": 4,
   "metadata": {},
   "outputs": [],
   "source": [
    "# This function has a number of keyword params with defaults for the luminosity function params\n",
    "# The defaults are the 'all, deep2' values from the Krause, Eifler, Blazek 2016 paper\n",
    "# The no-keywoard argument call signature is\n",
    "# get_Ai(A0, beta, cosmo, dndz)\n",
    "\n",
    "z = np.linspace(0,4, 1000)\n",
    "\n",
    "z_out, Ai = ai.get_Ai_of_z(5.0, 1.0, cosmo, z, Mr_s=-20.34, Q=1.8, alpha_lum=-1.2, phi_0=0.011, P=-1.2, mlim=27.5, Lp= 1.)"
   ]
  },
  {
   "cell_type": "code",
   "execution_count": 5,
   "metadata": {},
   "outputs": [],
   "source": [
    "save_stuff =np.column_stack((z_out,Ai))\n",
    "np.savetxt('./IA_for_niko.txt', save_stuff)"
   ]
  },
  {
   "cell_type": "code",
   "execution_count": null,
   "metadata": {},
   "outputs": [],
   "source": []
  }
 ],
 "metadata": {
  "kernelspec": {
   "display_name": "desc-tjp",
   "language": "python",
   "name": "desc-tjp"
  },
  "language_info": {
   "codemirror_mode": {
    "name": "ipython",
    "version": 3
   },
   "file_extension": ".py",
   "mimetype": "text/x-python",
   "name": "python",
   "nbconvert_exporter": "python",
   "pygments_lexer": "ipython3",
   "version": "3.8.10"
  }
 },
 "nbformat": 4,
 "nbformat_minor": 4
}
