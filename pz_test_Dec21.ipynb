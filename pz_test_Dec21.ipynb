{
 "cells": [
  {
   "cell_type": "code",
   "execution_count": 1,
   "metadata": {},
   "outputs": [],
   "source": [
    "import numpy as np\n",
    "import matplotlib.pyplot as plt\n",
    "from scipy.stats import chi2"
   ]
  },
  {
   "cell_type": "markdown",
   "metadata": {},
   "source": [
    "Make 2D plot of chi squared of spurious signal owing to photo-z uncertainty as a function of $\\Delta z$ and $\\sigma_z$."
   ]
  },
  {
   "cell_type": "code",
   "execution_count": 2,
   "metadata": {},
   "outputs": [],
   "source": [
    "#sigz = np.linspace(0.01,0.1,10)\n",
    "#delz = np.linspace(-0.05,0.05,11)\n",
    "\n",
    "sigz = [0.01, 0.02, 0.03, 0.04, 0.05, 0.06, 0.07, 0.08, 0.09, 0.1]\n",
    "delz = [-0.18, -0.17, -0.16, -0.15, -0.14, -0.13, -0.12, -0.11, -0.1, -0.09, -0.08, -0.07, -0.06, -0.05, -0.04, -0.03, \n",
    "        -0.02, -0.01, 0.0, 0.01, 0.02, 0.03, 0.04, 0.05, 0.06, 0.07, 0.08, 0.09, 0.1]"
   ]
  },
  {
   "cell_type": "code",
   "execution_count": null,
   "metadata": {},
   "outputs": [],
   "source": []
  },
  {
   "cell_type": "code",
   "execution_count": 4,
   "metadata": {},
   "outputs": [
    {
     "ename": "OSError",
     "evalue": "./txtfiles/photo_z_test/gamma_IA_est_DESY1_no_fidIA_measured-redshifts-wrong_variableF_Planck18pars_sigma=0.01deltaz=-0.18.txt not found.",
     "output_type": "error",
     "traceback": [
      "\u001b[0;31m---------------------------------------------------------------------------\u001b[0m",
      "\u001b[0;31mOSError\u001b[0m                                   Traceback (most recent call last)",
      "\u001b[0;32m<ipython-input-4-0cc76acac831>\u001b[0m in \u001b[0;36m<module>\u001b[0;34m\u001b[0m\n\u001b[1;32m      9\u001b[0m \u001b[0;32mfor\u001b[0m \u001b[0mdi\u001b[0m \u001b[0;32min\u001b[0m \u001b[0mrange\u001b[0m\u001b[0;34m(\u001b[0m\u001b[0;36m0\u001b[0m\u001b[0;34m,\u001b[0m\u001b[0mlen\u001b[0m\u001b[0;34m(\u001b[0m\u001b[0mdelz\u001b[0m\u001b[0;34m)\u001b[0m\u001b[0;34m)\u001b[0m\u001b[0;34m:\u001b[0m\u001b[0;34m\u001b[0m\u001b[0;34m\u001b[0m\u001b[0m\n\u001b[1;32m     10\u001b[0m     \u001b[0;32mfor\u001b[0m \u001b[0msi\u001b[0m \u001b[0;32min\u001b[0m \u001b[0mrange\u001b[0m\u001b[0;34m(\u001b[0m\u001b[0;36m0\u001b[0m\u001b[0;34m,\u001b[0m\u001b[0mlen\u001b[0m\u001b[0;34m(\u001b[0m\u001b[0msigz\u001b[0m\u001b[0;34m)\u001b[0m\u001b[0;34m)\u001b[0m\u001b[0;34m:\u001b[0m\u001b[0;34m\u001b[0m\u001b[0;34m\u001b[0m\u001b[0m\n\u001b[0;32m---> 11\u001b[0;31m         \u001b[0mtheta\u001b[0m\u001b[0;34m,\u001b[0m \u001b[0mdata_vec\u001b[0m \u001b[0;34m=\u001b[0m \u001b[0mnp\u001b[0m\u001b[0;34m.\u001b[0m\u001b[0mloadtxt\u001b[0m\u001b[0;34m(\u001b[0m\u001b[0;34m'./txtfiles/photo_z_test/gamma_IA_est_DESY1_no_fidIA_measured-redshifts-wrong_variableF_Planck18pars_sigma='\u001b[0m\u001b[0;34m+\u001b[0m\u001b[0mstr\u001b[0m\u001b[0;34m(\u001b[0m\u001b[0msigz\u001b[0m\u001b[0;34m[\u001b[0m\u001b[0msi\u001b[0m\u001b[0;34m]\u001b[0m\u001b[0;34m)\u001b[0m\u001b[0;34m+\u001b[0m\u001b[0;34m'deltaz='\u001b[0m\u001b[0;34m+\u001b[0m\u001b[0mstr\u001b[0m\u001b[0;34m(\u001b[0m\u001b[0mdelz\u001b[0m\u001b[0;34m[\u001b[0m\u001b[0mdi\u001b[0m\u001b[0;34m]\u001b[0m\u001b[0;34m)\u001b[0m\u001b[0;34m+\u001b[0m\u001b[0;34m'.txt'\u001b[0m\u001b[0;34m,\u001b[0m \u001b[0munpack\u001b[0m\u001b[0;34m=\u001b[0m\u001b[0;32mTrue\u001b[0m\u001b[0;34m)\u001b[0m\u001b[0;34m\u001b[0m\u001b[0;34m\u001b[0m\u001b[0m\n\u001b[0m\u001b[1;32m     12\u001b[0m         \u001b[0mplt\u001b[0m\u001b[0;34m.\u001b[0m\u001b[0mloglog\u001b[0m\u001b[0;34m(\u001b[0m\u001b[0mtheta\u001b[0m\u001b[0;34m,\u001b[0m \u001b[0;34m-\u001b[0m\u001b[0;36m1.0\u001b[0m\u001b[0;34m*\u001b[0m\u001b[0mdata_vec\u001b[0m\u001b[0;34m,\u001b[0m \u001b[0;34m'o'\u001b[0m\u001b[0;34m,\u001b[0m \u001b[0mlabel\u001b[0m\u001b[0;34m=\u001b[0m\u001b[0;34m'$\\delta z$='\u001b[0m\u001b[0;34m+\u001b[0m\u001b[0mstr\u001b[0m\u001b[0;34m(\u001b[0m\u001b[0mdelz\u001b[0m\u001b[0;34m[\u001b[0m\u001b[0mdi\u001b[0m\u001b[0;34m]\u001b[0m\u001b[0;34m)\u001b[0m\u001b[0;34m+\u001b[0m\u001b[0;34m', $\\sigma$='\u001b[0m\u001b[0;34m+\u001b[0m\u001b[0mstr\u001b[0m\u001b[0;34m(\u001b[0m\u001b[0msigz\u001b[0m\u001b[0;34m[\u001b[0m\u001b[0msi\u001b[0m\u001b[0;34m]\u001b[0m\u001b[0;34m)\u001b[0m\u001b[0;34m)\u001b[0m\u001b[0;34m\u001b[0m\u001b[0;34m\u001b[0m\u001b[0m\n\u001b[1;32m     13\u001b[0m         \u001b[0mdiff\u001b[0m \u001b[0;34m=\u001b[0m \u001b[0mdata_vec\u001b[0m \u001b[0;34m-\u001b[0m \u001b[0mgamma_IA_fid\u001b[0m\u001b[0;34m\u001b[0m\u001b[0;34m\u001b[0m\u001b[0m\n",
      "\u001b[0;32m/data/danielle/software/desc-tjp/lib/python3.6/site-packages/numpy/lib/npyio.py\u001b[0m in \u001b[0;36mloadtxt\u001b[0;34m(fname, dtype, comments, delimiter, converters, skiprows, usecols, unpack, ndmin, encoding, max_rows)\u001b[0m\n\u001b[1;32m    959\u001b[0m             \u001b[0mfname\u001b[0m \u001b[0;34m=\u001b[0m \u001b[0mos_fspath\u001b[0m\u001b[0;34m(\u001b[0m\u001b[0mfname\u001b[0m\u001b[0;34m)\u001b[0m\u001b[0;34m\u001b[0m\u001b[0;34m\u001b[0m\u001b[0m\n\u001b[1;32m    960\u001b[0m         \u001b[0;32mif\u001b[0m \u001b[0m_is_string_like\u001b[0m\u001b[0;34m(\u001b[0m\u001b[0mfname\u001b[0m\u001b[0;34m)\u001b[0m\u001b[0;34m:\u001b[0m\u001b[0;34m\u001b[0m\u001b[0;34m\u001b[0m\u001b[0m\n\u001b[0;32m--> 961\u001b[0;31m             \u001b[0mfh\u001b[0m \u001b[0;34m=\u001b[0m \u001b[0mnp\u001b[0m\u001b[0;34m.\u001b[0m\u001b[0mlib\u001b[0m\u001b[0;34m.\u001b[0m\u001b[0m_datasource\u001b[0m\u001b[0;34m.\u001b[0m\u001b[0mopen\u001b[0m\u001b[0;34m(\u001b[0m\u001b[0mfname\u001b[0m\u001b[0;34m,\u001b[0m \u001b[0;34m'rt'\u001b[0m\u001b[0;34m,\u001b[0m \u001b[0mencoding\u001b[0m\u001b[0;34m=\u001b[0m\u001b[0mencoding\u001b[0m\u001b[0;34m)\u001b[0m\u001b[0;34m\u001b[0m\u001b[0;34m\u001b[0m\u001b[0m\n\u001b[0m\u001b[1;32m    962\u001b[0m             \u001b[0mfencoding\u001b[0m \u001b[0;34m=\u001b[0m \u001b[0mgetattr\u001b[0m\u001b[0;34m(\u001b[0m\u001b[0mfh\u001b[0m\u001b[0;34m,\u001b[0m \u001b[0;34m'encoding'\u001b[0m\u001b[0;34m,\u001b[0m \u001b[0;34m'latin1'\u001b[0m\u001b[0;34m)\u001b[0m\u001b[0;34m\u001b[0m\u001b[0;34m\u001b[0m\u001b[0m\n\u001b[1;32m    963\u001b[0m             \u001b[0mfh\u001b[0m \u001b[0;34m=\u001b[0m \u001b[0miter\u001b[0m\u001b[0;34m(\u001b[0m\u001b[0mfh\u001b[0m\u001b[0;34m)\u001b[0m\u001b[0;34m\u001b[0m\u001b[0;34m\u001b[0m\u001b[0m\n",
      "\u001b[0;32m/data/danielle/software/desc-tjp/lib/python3.6/site-packages/numpy/lib/_datasource.py\u001b[0m in \u001b[0;36mopen\u001b[0;34m(path, mode, destpath, encoding, newline)\u001b[0m\n\u001b[1;32m    193\u001b[0m \u001b[0;34m\u001b[0m\u001b[0m\n\u001b[1;32m    194\u001b[0m     \u001b[0mds\u001b[0m \u001b[0;34m=\u001b[0m \u001b[0mDataSource\u001b[0m\u001b[0;34m(\u001b[0m\u001b[0mdestpath\u001b[0m\u001b[0;34m)\u001b[0m\u001b[0;34m\u001b[0m\u001b[0;34m\u001b[0m\u001b[0m\n\u001b[0;32m--> 195\u001b[0;31m     \u001b[0;32mreturn\u001b[0m \u001b[0mds\u001b[0m\u001b[0;34m.\u001b[0m\u001b[0mopen\u001b[0m\u001b[0;34m(\u001b[0m\u001b[0mpath\u001b[0m\u001b[0;34m,\u001b[0m \u001b[0mmode\u001b[0m\u001b[0;34m,\u001b[0m \u001b[0mencoding\u001b[0m\u001b[0;34m=\u001b[0m\u001b[0mencoding\u001b[0m\u001b[0;34m,\u001b[0m \u001b[0mnewline\u001b[0m\u001b[0;34m=\u001b[0m\u001b[0mnewline\u001b[0m\u001b[0;34m)\u001b[0m\u001b[0;34m\u001b[0m\u001b[0;34m\u001b[0m\u001b[0m\n\u001b[0m\u001b[1;32m    196\u001b[0m \u001b[0;34m\u001b[0m\u001b[0m\n\u001b[1;32m    197\u001b[0m \u001b[0;34m\u001b[0m\u001b[0m\n",
      "\u001b[0;32m/data/danielle/software/desc-tjp/lib/python3.6/site-packages/numpy/lib/_datasource.py\u001b[0m in \u001b[0;36mopen\u001b[0;34m(self, path, mode, encoding, newline)\u001b[0m\n\u001b[1;32m    533\u001b[0m                                       encoding=encoding, newline=newline)\n\u001b[1;32m    534\u001b[0m         \u001b[0;32melse\u001b[0m\u001b[0;34m:\u001b[0m\u001b[0;34m\u001b[0m\u001b[0;34m\u001b[0m\u001b[0m\n\u001b[0;32m--> 535\u001b[0;31m             \u001b[0;32mraise\u001b[0m \u001b[0mIOError\u001b[0m\u001b[0;34m(\u001b[0m\u001b[0;34m\"%s not found.\"\u001b[0m \u001b[0;34m%\u001b[0m \u001b[0mpath\u001b[0m\u001b[0;34m)\u001b[0m\u001b[0;34m\u001b[0m\u001b[0;34m\u001b[0m\u001b[0m\n\u001b[0m\u001b[1;32m    536\u001b[0m \u001b[0;34m\u001b[0m\u001b[0m\n\u001b[1;32m    537\u001b[0m \u001b[0;34m\u001b[0m\u001b[0m\n",
      "\u001b[0;31mOSError\u001b[0m: ./txtfiles/photo_z_test/gamma_IA_est_DESY1_no_fidIA_measured-redshifts-wrong_variableF_Planck18pars_sigma=0.01deltaz=-0.18.txt not found."
     ]
    },
    {
     "data": {
      "text/plain": [
       "<Figure size 432x288 with 0 Axes>"
      ]
     },
     "metadata": {},
     "output_type": "display_data"
    }
   ],
   "source": [
    "# Load data vectors for each case and get the signal to noise.\n",
    "# Load the covariance in order to do this\n",
    "data_cov = np.load('./txtfiles/DESY1_quantities_fromSara/10KsourceBins_1KlensBins/planck2018_params/CovMat.npy')\n",
    "inv_data_cov = np.linalg.inv(data_cov)\n",
    "gamma_IA_fid = np.loadtxt('./txtfiles/DESY1_quantities_fromSara/10KsourceBins_1KlensBins/planck2018_params/GammaIA')\n",
    "\n",
    "plt.figure()\n",
    "chisquared = np.zeros((len(delz), len(sigz)))\n",
    "for di in range(0,len(delz)):\n",
    "    for si in range(0,len(sigz)):\n",
    "        theta, data_vec = np.loadtxt('./txtfiles/photo_z_test/gamma_IA_est_DESY1_no_fidIA_measured-redshifts-wrong_variableF_Planck18pars_sigma='+str(sigz[si])+'deltaz='+str(delz[di])+'.txt', unpack=True)\n",
    "        plt.loglog(theta, -1.0*data_vec, 'o', label='$\\delta z$='+str(delz[di])+', $\\sigma$='+str(sigz[si]))\n",
    "        diff = data_vec - gamma_IA_fid\n",
    "        #print(\"data_vec=\", data_vec)\n",
    "        #print(\"gamma_IA_fid=\", gamma_IA_fid)\n",
    "        #print(diff)\n",
    "        #chisquared_cut[di, si] = np.dot(diff[1:],np.dot(inv_data_cov_cut,diff[1:]))\n",
    "        chisquared[di, si] = np.dot(diff,np.dot(inv_data_cov,diff))\n",
    "plt.ylabel('$\\gamma_{IA}(\\\\theta)$')\n",
    "plt.xlabel('$\\\\theta$, arcmin')\n",
    "plt.title('w/ fid IA, perturb measured source redshift distributions \\n + negative, o positive')\n",
    "plt.ylim(10**(-8),10**(-2))\n",
    "#plt.legend()\n",
    "#plt.savefig('./perturb_measured_source_dNdzs_nofidIA_w1halo_variableF_Planck18paras.png')\n",
    "#plt.close()\n",
    "plt.show()\n"
   ]
  },
  {
   "cell_type": "code",
   "execution_count": 52,
   "metadata": {},
   "outputs": [
    {
     "data": {
      "text/plain": [
       "array([-4.56157797e-03,  4.51804264e-04,  1.56239517e-04,  2.37917536e-03,\n",
       "        3.38634446e-03,  2.05644200e-03,  1.19820253e-03,  4.94697841e-05,\n",
       "        7.97305965e-05,  2.49786841e-05])"
      ]
     },
     "execution_count": 52,
     "metadata": {},
     "output_type": "execute_result"
    }
   ],
   "source": [
    "gamma_IA_fid"
   ]
  },
  {
   "cell_type": "code",
   "execution_count": 5,
   "metadata": {},
   "outputs": [],
   "source": [
    "# Set the number of degrees of freedom for the chisquared test. Here it is the number of data points I think.\n",
    "ndatapts = len(diff)\n",
    "DOF = ndatapts"
   ]
  },
  {
   "cell_type": "code",
   "execution_count": 12,
   "metadata": {},
   "outputs": [
    {
     "data": {
      "text/plain": [
       "[0.0, 0.01, 0.02, 0.03, 0.04, 0.05, 0.06, 0.07, 0.08, 0.09, 0.1]"
      ]
     },
     "execution_count": 12,
     "metadata": {},
     "output_type": "execute_result"
    }
   ],
   "source": [
    "delz[18:]"
   ]
  },
  {
   "cell_type": "code",
   "execution_count": 31,
   "metadata": {},
   "outputs": [
    {
     "data": {
      "image/png": "[encoded data removed]",
      "text/plain": [
       "<Figure size 432x288 with 2 Axes>"
      ]
     },
     "metadata": {
      "needs_background": "light"
     },
     "output_type": "display_data"
    }
   ],
   "source": [
    "# Plot the chi squared divided by the number of degrees of freedom as a function of the photo-z params.\n",
    "# As a rough estimate, where this is close to 1 the fit is pretty good.\n",
    "plt.figure()\n",
    "plt.imshow(chisquared[18:,:]/DOF, extent = [0.01, 0.1, 0.1, 0.],interpolation='spline36')#, aspect=2.0/3.0)\n",
    "#plt.imshow(chisquared/DOF, extent = [0.01, 0.1, 0.1, -0.18],interpolation='spline36')#, aspect=2.0/3.0)\n",
    "plt.xlabel('$\\sigma_z$', fontsize=14)\n",
    "plt.ylabel('$\\Delta z$', fontsize=14)\n",
    "plt.xticks(fontsize=12)\n",
    "plt.yticks(fontsize=12)\n",
    "plt.title('$\\chi^2$ / nbins', fontsize=14)\n",
    "cbar = plt.colorbar()\n",
    "cbar.ax.tick_params(labelsize=14)\n",
    "#plt.contour(sigz, delz, chisquared/DOF, [1.5], colors='#FFFFFF', linewidths=4)\n",
    "plt.contour(sigz, delz[18:], chisquared[18:,:]/DOF, [1.5], colors='#FFFFFF', linewidths=4)\n",
    "#plt.savefig('./reduced_chisq_w1halo_variableF_Planck18.png')\n",
    "plt.show()"
   ]
  },
  {
   "cell_type": "code",
   "execution_count": 32,
   "metadata": {},
   "outputs": [
    {
     "data": {
      "text/plain": [
       "array([[ 3.13498109,  4.57169306,  6.23596738,  8.08303385, 10.07946889,\n",
       "        12.1987757 , 14.4197725 , 16.72545927, 19.10211509, 21.53858902],\n",
       "       [ 2.56534534,  3.82812158,  5.34655574,  7.06716161,  8.95147804,\n",
       "        10.96983084, 13.09887504, 15.3200497 , 17.61845804, 19.98203441],\n",
       "       [ 2.11815584,  3.20270098,  4.57128708,  6.16176856,  7.93066638,\n",
       "         9.84510571, 11.8795411 , 14.01381273, 16.23181399, 18.52053537],\n",
       "       [ 1.77980924,  2.68439876,  3.9008329 ,  5.35875584,  7.00986614,\n",
       "         8.81816081, 10.75591477, 12.80136925, 14.93719951, 17.14944115],\n",
       "       [ 1.53768735,  2.26288237,  3.32639963,  4.65045464,  6.18226792,\n",
       "         7.88286346,  9.72240856, 11.67757903, 13.72984683, 15.86429808],\n",
       "       [ 1.38014526,  1.92850291,  2.83971353,  4.02961249,  5.44140822,\n",
       "         7.03337636,  8.77369268, 10.63753066, 12.60519437, 14.66084057],\n",
       "       [ 1.29649904,  1.67227933,  2.43300629,  3.4893804 ,  4.7811578 ,\n",
       "         6.26414695,  7.90468525,  9.67653241, 11.55887808, 13.53498292],\n",
       "       [ 1.27701169,  1.48588228,  2.09900086,  3.02330057,  4.19571079,\n",
       "         5.56989751,  7.11054317,  8.79010378, 10.58672355, 12.48281178],\n",
       "       [ 1.31287596,  1.3616172 ,  1.83089732,  2.62529426,  3.67957408,\n",
       "         4.94561571,  6.38665357,  7.97396755,  9.6847386 , 11.50057922],\n",
       "       [ 1.39619382,  1.29240624,  1.62235844,  2.28964992,  3.22755713,\n",
       "         4.38654567,  5.72862571,  7.22404242,  8.84910637, 10.58469627],\n",
       "       [ 1.51995199,  1.27176895,  1.4674948 ,  2.01101124,  2.83476198,\n",
       "         3.8881792 ,  5.13228321,  6.5364359 ,  8.07617886,  9.7317268 ]])"
      ]
     },
     "execution_count": 32,
     "metadata": {},
     "output_type": "execute_result"
    }
   ],
   "source": [
    "chisquared[18:,:]/DOF"
   ]
  },
  {
   "cell_type": "code",
   "execution_count": 22,
   "metadata": {},
   "outputs": [
    {
     "data": {
      "image/png": "[encoded data removed]",
      "text/plain": [
       "<Figure size 432x288 with 1 Axes>"
      ]
     },
     "metadata": {
      "needs_background": "light"
     },
     "output_type": "display_data"
    }
   ],
   "source": [
    "# Plot one of the theory vectors in the 'decent fit' range alongside the data vector and covariance\n",
    "# Just to make sure it looks okay\n",
    "\n",
    "plt.figure()\n",
    "theta, data_vec = np.loadtxt('./txtfiles/photo_z_test/gamma_IA_est_DESY1_no_fidIA_measured-redshifts-wrong_variableF_Planck18pars_sigma=0.01deltaz=0.09.txt', unpack=True)\n",
    "plt.loglog(theta, data_vec, 'o', label='$\\delta z$=0.09, $\\sigma$=0.01')\n",
    "plt.errorbar(theta, gamma_IA_fid, yerr = np.sqrt(np.diag(data_cov)), marker='o',ls='none',label='measurement')\n",
    "plt.ylabel('$\\gamma_{IA}(\\\\theta)$')\n",
    "plt.xlabel('$\\\\theta$, arcmin')\n",
    "#plt.title('w/ fid IA, perturb measured source redshift distributions \\n + negative, o positive')\n",
    "plt.ylim(10**(-5),10**(-2))\n",
    "plt.legend()\n",
    "plt.yscale('log')\n",
    "#plt.savefig('./perturb_measured_source_dNdzs_nofidIA_w1halo_variableF_Planck18paras.png')\n",
    "#plt.close()\n",
    "plt.show()"
   ]
  },
  {
   "cell_type": "code",
   "execution_count": null,
   "metadata": {},
   "outputs": [],
   "source": [
    "# We would really like to be more precise than the above chi-square / DOF.\n",
    "# Really, we want to look at a chi squared distribution with the correct number of degrees of freedom\n",
    "# And calculate the probability that each of our photo-z uncertainty models are drawn from this distribution."
   ]
  },
  {
   "cell_type": "code",
   "execution_count": 26,
   "metadata": {},
   "outputs": [],
   "source": [
    "# What we want is the CDF value at the chi square given by each of our parameter choices.\n",
    "# What this tells us is the probability that, given our pz-uncertainty model with given sigz and delz is correct, \n",
    "# we would have got the chi square we got or a lower chi squared (fixing our measured data vector and cov).\n",
    "# Eg if CDF = 0.95, this means that if our model is correct, 95% of the time the chi squared would have been lower.\n",
    "# If we care about the model and the data agreeing within 1 sigma, we look for the case where CDF=0.68 or less\n",
    "# i.e. the case where if our model is correct, 68% of the time we would have drawn a lower chi-squared. \n",
    "\n",
    "cdf_grid = np.zeros((len(delz), len(sigz)))\n",
    "for di in range(0,len(delz)):\n",
    "    for si in range(0,len(sigz)):\n",
    "        cdf_grid[di,si] = chi2.cdf(chisquared[di, si], DOF)"
   ]
  },
  {
   "cell_type": "code",
   "execution_count": 34,
   "metadata": {},
   "outputs": [
    {
     "name": "stderr",
     "output_type": "stream",
     "text": [
      "<ipython-input-34-02a2685b4b91>:12: UserWarning: No contour levels were found within the data range.\n",
      "  plt.contour(sigz, delz, cdf_grid, [0.68], colors='#FFFFFF', linewidths=4)\n"
     ]
    },
    {
     "data": {
      "image/png": "[encoded data removed]",
      "text/plain": [
       "<Figure size 432x288 with 2 Axes>"
      ]
     },
     "metadata": {
      "needs_background": "light"
     },
     "output_type": "display_data"
    }
   ],
   "source": [
    "# Plot the cdf as a function of photo-z params\n",
    "plt.figure()\n",
    "#plt.imshow(cdf_grid[8:19,:], extent = [0.01, 0.1, 0, -0.1])#, aspect=2.0/3.0)\n",
    "plt.imshow(cdf_grid, extent = [0.01, 0.1, 0.1, -0.18])#, aspect=2.0/3.0)\n",
    "plt.xlabel('$\\sigma_z$', fontsize=14)\n",
    "plt.ylabel('$\\Delta z$', fontsize=14)\n",
    "plt.xticks(fontsize=12)\n",
    "plt.yticks(fontsize=12)\n",
    "plt.title('CDF of $\\chi^2$ distribution', fontsize=14)\n",
    "cbar = plt.colorbar()\n",
    "cbar.ax.tick_params(labelsize=14)\n",
    "plt.contour(sigz, delz, cdf_grid, [0.68], colors='#FFFFFF', linewidths=4)\n",
    "#plt.savefig('./pvalues_w1halo_variableF_Planck18.png')\n",
    "plt.show()"
   ]
  },
  {
   "cell_type": "code",
   "execution_count": 33,
   "metadata": {},
   "outputs": [],
   "source": [
    "# All of our models are rejected at the 1-sigma level (CDF is never as low as 0.68 for our models.)\n",
    "# What about 2-sigma? This is the 95% confidence interval, so we look to CDF=0.95"
   ]
  },
  {
   "cell_type": "code",
   "execution_count": 40,
   "metadata": {},
   "outputs": [
    {
     "data": {
      "text/plain": [
       "[0.01, 0.02, 0.03, 0.04, 0.05, 0.06]"
      ]
     },
     "execution_count": 40,
     "metadata": {},
     "output_type": "execute_result"
    }
   ],
   "source": [
    "sigz[0:6]"
   ]
  },
  {
   "cell_type": "code",
   "execution_count": 51,
   "metadata": {},
   "outputs": [
    {
     "data": {
      "image/png": "[encoded data removed]",
      "text/plain": [
       "<Figure size 432x288 with 2 Axes>"
      ]
     },
     "metadata": {
      "needs_background": "light"
     },
     "output_type": "display_data"
    }
   ],
   "source": [
    "# Plot the cdf as a function of photo-z params\n",
    "plt.figure()\n",
    "#plt.imshow(cdf_grid[8:19,:], extent = [0.01, 0.1, 0, -0.1])#, aspect=2.0/3.0)\n",
    "plt.imshow(cdf_grid[18:,0:6], extent = [0.01, 0.06, 0.1,0.0], interpolation='spline36',aspect=0.5)\n",
    "plt.xlabel('$\\sigma_z$', fontsize=14)\n",
    "plt.ylabel('$\\Delta z$', fontsize=14)\n",
    "plt.xticks(fontsize=12)\n",
    "plt.yticks(fontsize=12)\n",
    "plt.title('CDF of $\\chi^2$ distribution', fontsize=14)\n",
    "cbar = plt.colorbar()\n",
    "cbar.ax.tick_params(labelsize=14)\n",
    "plt.contour(sigz[0:6], delz[18:], cdf_grid[18:,0:6], [0.95], colors='k', linewidths=4)\n",
    "plt.savefig('./cdf_w1halo_variableF_Planck18_95pcline.png')\n",
    "#plt.show()"
   ]
  },
  {
   "cell_type": "code",
   "execution_count": 46,
   "metadata": {},
   "outputs": [],
   "source": [
    "# So there are some regions where our model is acceptable within 2sigma, at higher derz and very low sigz."
   ]
  },
  {
   "cell_type": "code",
   "execution_count": 48,
   "metadata": {},
   "outputs": [
    {
     "data": {
      "image/png": "[encoded data removed]",
      "text/plain": [
       "<Figure size 432x288 with 1 Axes>"
      ]
     },
     "metadata": {
      "needs_background": "light"
     },
     "output_type": "display_data"
    }
   ],
   "source": [
    "# Plot the cdf as a function of photo-z params\n",
    "plt.figure()\n",
    "#plt.imshow(cdf_grid[8:19,:], extent = [0.01, 0.1, 0, -0.1])#, aspect=2.0/3.0)\n",
    "#plt.imshow(cdf_grid[18:,0:6], extent = [0.01, 0.06, 0.1,0.0], interpolation='spline36',aspect=0.6)\n",
    "plt.xlabel('$\\sigma_z$', fontsize=14)\n",
    "plt.ylabel('$\\Delta z$', fontsize=14)\n",
    "plt.xticks(fontsize=12)\n",
    "plt.yticks(fontsize=12)\n",
    "plt.title('CDF of $\\chi^2$ distribution', fontsize=14)\n",
    "#cbar = plt.colorbar()\n",
    "#cbar.ax.tick_params(labelsize=14)\n",
    "plt.contour(sigz[0:6], delz[18:], cdf_grid[18:,0:6], [0.95], colors='k', linewidths=4)\n",
    "#plt.savefig('./pvalues_w1halo_variableF_Planck18.png')\n",
    "plt.show()"
   ]
  },
  {
   "cell_type": "code",
   "execution_count": null,
   "metadata": {},
   "outputs": [],
   "source": [
    "print(delz[8:19])"
   ]
  },
  {
   "cell_type": "code",
   "execution_count": null,
   "metadata": {},
   "outputs": [],
   "source": [
    "#plt.imshow(chisquared_cut/DOF_cut, extent = [0.01, 0.1, 0.0, -0.18])\n",
    "#plt.xlabel('$\\sigma_z$')\n",
    "#plt.ylabel('$\\Delta z$')\n",
    "#plt.title('Reduced $\\chi^2$ (omit smallest angle data point)')\n",
    "#plt.colorbar()\n",
    "#plt.savefig('./reduced_chisq_cutdvec.png')"
   ]
  },
  {
   "cell_type": "code",
   "execution_count": null,
   "metadata": {},
   "outputs": [],
   "source": [
    "show_bad_regions = np.zeros((len(delz), len(sigz)))\n",
    "show_bad_regions_cut = np.zeros((len(delz), len(sigz)))\n",
    "for zi in range(len(delz)):\n",
    "    for si in range(len(sigz)):\n",
    "        if (chisquared[zi, si] / DOF > 1.5):\n",
    "            show_bad_regions[zi,si]=0.0\n",
    "        else:\n",
    "            show_bad_regions[zi,si] = chisquared[zi,si] / DOF\n",
    "            \n",
    "#for zi in range(len(delz)):\n",
    "#    for si in range(len(sigz)):\n",
    "#        if (chisquared_cut[zi, si] / DOF_cut > 1.0):\n",
    "#            show_bad_regions_cut[zi,si]=0.0\n",
    "#        else:\n",
    "#            show_bad_regions_cut[zi,si] = chisquared_cut[zi,si] / DOF_cut\n",
    "            "
   ]
  },
  {
   "cell_type": "code",
   "execution_count": null,
   "metadata": {},
   "outputs": [],
   "source": [
    "plt.imshow(show_bad_regions, extent = [0.01, 0.1, 0.1, -0.18])\n",
    "plt.title('Yellow region has reduced $\\chi^2<1.5$')\n",
    "plt.xlabel('$\\sigma_z$')\n",
    "plt.ylabel('$\\Delta z$')\n",
    "plt.colorbar()\n",
    "plt.tight_layout()\n",
    "plt.savefig('./confusion_region_fulldvec_shift_one_sample_w1halo_variableF.png')"
   ]
  },
  {
   "cell_type": "code",
   "execution_count": null,
   "metadata": {},
   "outputs": [],
   "source": [
    "#plt.imshow(show_bad_regions_cut, extent = [0.01, 0.1, 0.0, -0.18])\n",
    "#plt.title('Non-zero region has reduced $\\chi^2<1$ (cut data vector)')\n",
    "#plt.xlabel('$\\sigma_z$')\n",
    "#plt.ylabel('$\\Delta z$')\n",
    "#plt.colorbar()\n",
    "#plt.savefig('./confusion_region_cutdvec.png')"
   ]
  },
  {
   "cell_type": "markdown",
   "metadata": {},
   "source": [
    "We are interested in also considering the case where we find the best-fit pz parameters for just the positive data points (all but the first one) and just the negative data points (the first one)."
   ]
  },
  {
   "cell_type": "code",
   "execution_count": 5,
   "metadata": {},
   "outputs": [],
   "source": [
    "gamma_IA_pos = gamma_IA_fid[1:]\n",
    "data_cov_pos = data_cov[1:,1:]\n",
    "inv_data_cov_pos = np.linalg.inv(data_cov_pos)"
   ]
  },
  {
   "cell_type": "code",
   "execution_count": null,
   "metadata": {},
   "outputs": [],
   "source": [
    "#plt.figure()\n",
    "chisquared_pos = np.zeros((len(delz), len(sigz)))\n",
    "for di in range(0,len(delz)):\n",
    "    for si in range(0,len(sigz)):\n",
    "        theta, data_vec = np.loadtxt('./txtfiles/photo_z_test/gamma_IA_est_DESY1_no_fidIA_measured-redshifts-wrong_variableF_Planck18pars_sigma='+str(sigz[si])+'deltaz='+str(delz[di])+'.txt', unpack=True)\n",
    "        theta_pos = theta[1:]\n",
    "        data_vec_pos = data_vec[1:]\n",
    "        #plt.loglog(theta, -1.0*data_vec, 'o', label='$\\delta z$='+str(delz[di])+', $\\sigma$='+str(sigz[si]))\n",
    "        diff = data_vec_pos - gamma_IA_pos\n",
    "        #print(\"data_vec=\", data_vec)\n",
    "        #print(\"gamma_IA_fid=\", gamma_IA_fid)\n",
    "        #print(diff)\n",
    "        #chisquared_cut[di, si] = np.dot(diff[1:],np.dot(inv_data_cov_cut,diff[1:]))\n",
    "        chisquared_pos[di, si] = np.dot(diff,np.dot(inv_data_cov_pos,diff))\n",
    "#plt.ylabel('$\\gamma_{IA}(\\\\theta)$')\n",
    "#plt.xlabel('$\\\\theta$, arcmin')\n",
    "#plt.title('w/ fid IA, perturb measured source redshift distributions \\n + negative, o positive')\n",
    "#plt.ylim(10**(-8),10**(-2))\n",
    "#plt.legend()\n",
    "#plt.savefig('./perturb_measured_source_dNdzs_nofidIA_w1halo_variableF_Planck18paras.png')\n",
    "#plt.close()\n",
    "#plt.show()"
   ]
  },
  {
   "cell_type": "code",
   "execution_count": null,
   "metadata": {},
   "outputs": [],
   "source": [
    "DOF_pos = DOF-1"
   ]
  },
  {
   "cell_type": "code",
   "execution_count": null,
   "metadata": {},
   "outputs": [],
   "source": [
    "cdf_grid_pos = np.zeros((len(delz), len(sigz)))\n",
    "for di in range(0,len(delz)):\n",
    "    for si in range(0,len(sigz)):\n",
    "        cdf_grid_pos[di,si] = chi2.cdf(chisquared_pos[di, si], DOF_pos)"
   ]
  },
  {
   "cell_type": "code",
   "execution_count": null,
   "metadata": {},
   "outputs": [],
   "source": [
    "print(cdf_grid_pos)"
   ]
  },
  {
   "cell_type": "code",
   "execution_count": null,
   "metadata": {},
   "outputs": [],
   "source": [
    "print(delz)\n",
    "print(sigz)"
   ]
  },
  {
   "cell_type": "code",
   "execution_count": 7,
   "metadata": {},
   "outputs": [],
   "source": [
    "gamma_IA_neg = gamma_IA_fid[0]\n",
    "data_cov_neg = data_cov[0,0]\n",
    "inv_data_cov_neg = 1./data_cov_neg"
   ]
  },
  {
   "cell_type": "code",
   "execution_count": null,
   "metadata": {},
   "outputs": [],
   "source": [
    "#plt.figure()\n",
    "chisquared_neg = np.zeros((len(delz), len(sigz)))\n",
    "for di in range(0,len(delz)):\n",
    "    for si in range(0,len(sigz)):\n",
    "        theta, data_vec = np.loadtxt('./txtfiles/photo_z_test/gamma_IA_est_DESY1_no_fidIA_measured-redshifts-wrong_variableF_Planck18pars_sigma='+str(sigz[si])+'deltaz='+str(delz[di])+'.txt', unpack=True)\n",
    "        theta_neg = theta[0]\n",
    "        data_vec_neg = data_vec[0]\n",
    "        #plt.loglog(theta, -1.0*data_vec, 'o', label='$\\delta z$='+str(delz[di])+', $\\sigma$='+str(sigz[si]))\n",
    "        diff = data_vec_neg - gamma_IA_neg\n",
    "        #print(\"data_vec=\", data_vec)\n",
    "        #print(\"gamma_IA_fid=\", gamma_IA_fid)\n",
    "        #print(diff)\n",
    "        #chisquared_cut[di, si] = np.dot(diff[1:],np.dot(inv_data_cov_cut,diff[1:]))\n",
    "        chisquared_pos[di, si] = diff**2 / inv_data_cov_neg\n",
    "#plt.ylabel('$\\gamma_{IA}(\\\\theta)$')\n",
    "#plt.xlabel('$\\\\theta$, arcmin')\n",
    "#plt.title('w/ fid IA, perturb measured source redshift distributions \\n + negative, o positive')\n",
    "#plt.ylim(10**(-8),10**(-2))\n",
    "#plt.legend()\n",
    "#plt.savefig('./perturb_measured_source_dNdzs_nofidIA_w1halo_variableF_Planck18paras.png')\n",
    "#plt.close()\n",
    "#plt.show()"
   ]
  },
  {
   "cell_type": "code",
   "execution_count": null,
   "metadata": {},
   "outputs": [],
   "source": [
    "DOF_pos = 1"
   ]
  },
  {
   "cell_type": "code",
   "execution_count": null,
   "metadata": {},
   "outputs": [],
   "source": [
    "cdf_grid_neg = np.zeros((len(delz), len(sigz)))\n",
    "for di in range(0,len(delz)):\n",
    "    for si in range(0,len(sigz)):\n",
    "        cdf_grid_neg[di,si] = chi2.cdf(chisquared_neg[di, si], DOF_neg)"
   ]
  },
  {
   "cell_type": "code",
   "execution_count": null,
   "metadata": {},
   "outputs": [],
   "source": [
    "print(cdf_grid_neg)"
   ]
  },
  {
   "cell_type": "code",
   "execution_count": null,
   "metadata": {},
   "outputs": [],
   "source": [
    "print(delz)\n",
    "print(sigz)"
   ]
  }
 ],
 "metadata": {
  "kernelspec": {
   "display_name": "desc-tjp",
   "language": "python",
   "name": "desc-tjp"
  },
  "language_info": {
   "codemirror_mode": {
    "name": "ipython",
    "version": 3
   },
   "file_extension": ".py",
   "mimetype": "text/x-python",
   "name": "python",
   "nbconvert_exporter": "python",
   "pygments_lexer": "ipython3",
   "version": "3.6.9"
  }
 },
 "nbformat": 4,
 "nbformat_minor": 4
}
