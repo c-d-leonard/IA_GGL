{
 "cells": [
  {
   "cell_type": "code",
   "execution_count": 1,
   "metadata": {},
   "outputs": [],
   "source": [
    "import numpy as np\n",
    "import matplotlib.pyplot as plt\n",
    "from scipy.stats import chi2"
   ]
  },
  {
   "cell_type": "markdown",
   "metadata": {},
   "source": [
    "Display chi square wrt a model containing a combination of photo-z uncertainty as a function of $\\Delta z$ and $\\sigma_z$ and a single A_IA intrinsic alignment parameter across 1 and 2 halo scales."
   ]
  },
  {
   "cell_type": "code",
   "execution_count": null,
   "metadata": {},
   "outputs": [],
   "source": [
    "#sigz = np.linspace(0.01,0.1,10)\n",
    "#delz = np.linspace(-0.05,0.05,11)\n",
    "\n",
    "# Note the first sigz point is not linearly spaced so should not really be used for plotting atm\n",
    "\n",
    "sigz = [0.0001, 0.01, 0.02, 0.03, 0.04, 0.05, 0.06, 0.07, 0.08, 0.09, 0.1]\n",
    "delz = [-0.18, -0.17, -0.16, -0.15, -0.14, -0.13, -0.12, -0.11, -0.1, -0.09, -0.08, -0.07, -0.06, -0.05, -0.04, -0.03, \n",
    "        -0.02, -0.01, 0.0, 0.01, 0.02, 0.03, 0.04, 0.05, 0.06, 0.07, 0.08, 0.09, 0.1]"
   ]
  },
  {
   "cell_type": "code",
   "execution_count": null,
   "metadata": {},
   "outputs": [],
   "source": []
  },
  {
   "cell_type": "code",
   "execution_count": null,
   "metadata": {},
   "outputs": [],
   "source": [
    "# Load data vectors for each case and get the signal to noise.\n",
    "# Load the covariance in order to do this\n",
    "data_cov = np.load('./txtfiles/DESY1_quantities_fromSara/10KsourceBins_1KlensBins/planck2018_params/CovMat.npy')\n",
    "inv_data_cov = np.linalg.inv(data_cov)\n",
    "gamma_IA_fid = np.loadtxt('./txtfiles/DESY1_quantities_fromSara/10KsourceBins_1KlensBins/planck2018_params/GammaIA')\n",
    "\n",
    "plt.figure()\n",
    "chisquared = np.zeros((len(delz), len(sigz)))\n",
    "for di in range(0,len(delz)):\n",
    "    for si in range(0,len(sigz)):\n",
    "        theta, data_vec = np.loadtxt('./txtfiles/photo_z_test/gamma_IA_est_DESY1_no_fidIA_measured-redshifts-wrong_variableF_DESHoD_sigma='+str(sigz[si])+'deltaz='+str(delz[di])+'.txt', unpack=True)\n",
    "        plt.loglog(theta, -1.0*data_vec, 'o', label='$\\delta z$='+str(delz[di])+', $\\sigma$='+str(sigz[si]))\n",
    "        diff = data_vec - gamma_IA_fid\n",
    "        #print(\"data_vec=\", data_vec)\n",
    "        #print(\"gamma_IA_fid=\", gamma_IA_fid)\n",
    "        #print(diff)\n",
    "        #chisquared_cut[di, si] = np.dot(diff[1:],np.dot(inv_data_cov_cut,diff[1:]))\n",
    "        chisquared[di, si] = np.dot(diff,np.dot(inv_data_cov,diff))\n",
    "plt.ylabel('$\\gamma_{IA}(\\\\theta)$')\n",
    "plt.xlabel('$\\\\theta$, arcmin')\n",
    "plt.title('w/ fid IA, perturb measured source redshift distributions \\n + negative, o positive')\n",
    "plt.ylim(10**(-8),10**(-2))\n",
    "#plt.legend()\n",
    "#plt.savefig('./perturb_measured_source_dNdzs_nofidIA_w1halo_variableF_Planck18paras.png')\n",
    "#plt.close()\n",
    "plt.show()\n"
   ]
  },
  {
   "cell_type": "code",
   "execution_count": null,
   "metadata": {},
   "outputs": [],
   "source": [
    "gamma_IA_fid"
   ]
  },
  {
   "cell_type": "code",
   "execution_count": null,
   "metadata": {},
   "outputs": [],
   "source": [
    "# Set the number of degrees of freedom for the chisquared test. Here it is the number of data points I think.\n",
    "ndatapts = len(diff)\n",
    "DOF = ndatapts"
   ]
  },
  {
   "cell_type": "code",
   "execution_count": null,
   "metadata": {},
   "outputs": [],
   "source": [
    "delz[18:]"
   ]
  },
  {
   "cell_type": "code",
   "execution_count": null,
   "metadata": {},
   "outputs": [],
   "source": [
    "# Plot the chi squared divided by the number of degrees of freedom as a function of the photo-z params.\n",
    "# As a rough estimate, where this is close to 1 the fit is pretty good.\n",
    "plt.figure()\n",
    "plt.imshow(chisquared[18:,:]/DOF, extent = [0.0, 0.1, 0.1, 0.],interpolation='spline36')#, aspect=2.0/3.0)\n",
    "#plt.imshow(chisquared/DOF, extent = [0.01, 0.1, 0.1, -0.18],interpolation='spline36')#, aspect=2.0/3.0)\n",
    "plt.xlabel('$\\sigma_z$', fontsize=14)\n",
    "plt.ylabel('$\\Delta z$', fontsize=14)\n",
    "plt.xticks(fontsize=12)\n",
    "plt.yticks(fontsize=12)\n",
    "plt.title('$\\chi^2$ / nbins', fontsize=14)\n",
    "cbar = plt.colorbar()\n",
    "cbar.ax.tick_params(labelsize=14)\n",
    "#plt.contour(sigz, delz, chisquared/DOF, [1.5], colors='#FFFFFF', linewidths=4)\n",
    "plt.contour(sigz, delz[18:], chisquared[18:,:]/DOF, [1.5], colors='#FFFFFF', linewidths=4)\n",
    "#plt.savefig('./reduced_chisq_w1halo_variableF_Planck18.png')\n",
    "plt.show()"
   ]
  },
  {
   "cell_type": "code",
   "execution_count": null,
   "metadata": {},
   "outputs": [],
   "source": [
    "# Plot one of the theory vectors in the 'decent fit' range alongside the data vector and covariance\n",
    "# Just to make sure it looks okay\n",
    "\n",
    "plt.figure()\n",
    "theta, data_vec = np.loadtxt('./txtfiles/photo_z_test/gamma_IA_est_DESY1_no_fidIA_measured-redshifts-wrong_variableF_DESHoD_sigma=0.0001deltaz=0.07.txt', unpack=True)\n",
    "plt.loglog(theta, data_vec, 'o', label='$\\delta z$=0.07, $\\sigma$=0.0')\n",
    "plt.errorbar(theta, gamma_IA_fid, yerr = np.sqrt(np.diag(data_cov)), marker='o',ls='none',label='measurement')\n",
    "plt.ylabel('$\\gamma_{IA}(\\\\theta)$')\n",
    "plt.xlabel('$\\\\theta$, arcmin')\n",
    "#plt.title('w/ fid IA, perturb measured source redshift distributions \\n + negative, o positive')\n",
    "plt.ylim(10**(-5),10**(-2))\n",
    "plt.legend()\n",
    "plt.yscale('log')\n",
    "#plt.savefig('./perturb_measured_source_dNdzs_nofidIA_w1halo_variableF_Planck18paras.png')\n",
    "#plt.close()\n",
    "plt.show()"
   ]
  },
  {
   "cell_type": "code",
   "execution_count": null,
   "metadata": {},
   "outputs": [],
   "source": [
    "# We would really like to be more precise than the above chi-square / DOF.\n",
    "# Really, we want to look at a chi squared distribution with the correct number of degrees of freedom\n",
    "# And calculate the probability that each of our photo-z uncertainty models are drawn from this distribution."
   ]
  },
  {
   "cell_type": "code",
   "execution_count": null,
   "metadata": {},
   "outputs": [],
   "source": [
    "# What we want is the CDF value at the chi square given by each of our parameter choices.\n",
    "# What this tells us is the probability that, given our pz-uncertainty model with given sigz and delz is correct, \n",
    "# we would have got the chi square we got or a lower chi squared (fixing our measured data vector and cov).\n",
    "# Eg if CDF = 0.95, this means that if our model is correct, 95% of the time the chi squared would have been lower.\n",
    "# If we care about the model and the data agreeing within 1 sigma, we look for the case where CDF=0.68 or less\n",
    "# i.e. the case where if our model is correct, 68% of the time we would have drawn a lower chi-squared. \n",
    "\n",
    "cdf_grid = np.zeros((len(delz), len(sigz)))\n",
    "for di in range(0,len(delz)):\n",
    "    for si in range(0,len(sigz)):\n",
    "        cdf_grid[di,si] = chi2.cdf(chisquared[di, si], DOF)"
   ]
  },
  {
   "cell_type": "code",
   "execution_count": null,
   "metadata": {},
   "outputs": [],
   "source": [
    "# Plot the cdf as a function of photo-z params\n",
    "plt.figure()\n",
    "#plt.imshow(cdf_grid[8:19,:], extent = [0.01, 0.1, 0, -0.1])#, aspect=2.0/3.0)\n",
    "plt.imshow(cdf_grid, extent = [0.0, 0.1, 0.1, -0.18])#, aspect=2.0/3.0)\n",
    "plt.xlabel('$\\sigma_z$', fontsize=14)\n",
    "plt.ylabel('$\\Delta z$', fontsize=14)\n",
    "plt.xticks(fontsize=12)\n",
    "plt.yticks(fontsize=12)\n",
    "plt.title('CDF of $\\chi^2$ distribution', fontsize=14)\n",
    "cbar = plt.colorbar()\n",
    "cbar.ax.tick_params(labelsize=14)\n",
    "plt.contour(sigz, delz, cdf_grid, [0.68], colors='#FFFFFF', linewidths=4)\n",
    "#plt.savefig('./pvalues_w1halo_variableF_Planck18.png')\n",
    "plt.show()"
   ]
  },
  {
   "cell_type": "code",
   "execution_count": null,
   "metadata": {},
   "outputs": [],
   "source": [
    "# All of our models are rejected at the 1-sigma level (CDF is never as low as 0.68 for our models.)\n",
    "# What about 2-sigma? This is the 95% confidence interval, so we look to CDF=0.95"
   ]
  },
  {
   "cell_type": "code",
   "execution_count": null,
   "metadata": {},
   "outputs": [],
   "source": [
    "# Plot the cdf as a function of photo-z params\n",
    "plt.figure()\n",
    "#plt.imshow(cdf_grid[8:19,:], extent = [0.01, 0.1, 0, -0.1])#, aspect=2.0/3.0)\n",
    "plt.imshow(cdf_grid[18:,0:6], extent = [0.0, 0.06, 0.1,0.0], interpolation='spline36',aspect=0.5)\n",
    "plt.xlabel('$\\sigma_z$', fontsize=14)\n",
    "plt.ylabel('$\\Delta z$', fontsize=14)\n",
    "plt.xticks(fontsize=12)\n",
    "plt.yticks(fontsize=12)\n",
    "plt.title('CDF of $\\chi^2$ distribution', fontsize=14)\n",
    "cbar = plt.colorbar()\n",
    "cbar.ax.tick_params(labelsize=14)\n",
    "plt.contour(sigz[0:6], delz[18:], cdf_grid[18:,0:6], [0.95], colors='k', linewidths=4)\n",
    "#plt.savefig('./cdf_w1halo_variableF_Planck18_95pcline.png')\n",
    "plt.show()"
   ]
  },
  {
   "cell_type": "code",
   "execution_count": null,
   "metadata": {},
   "outputs": [],
   "source": [
    "# So there are some regions where our model is acceptable within 2sigma, at higher derz and very low sigz."
   ]
  },
  {
   "cell_type": "code",
   "execution_count": null,
   "metadata": {},
   "outputs": [],
   "source": [
    "# Plot the cdf as a function of photo-z params\n",
    "plt.figure()\n",
    "#plt.imshow(cdf_grid[8:19,:], extent = [0.01, 0.1, 0, -0.1])#, aspect=2.0/3.0)\n",
    "#plt.imshow(cdf_grid[18:,0:6], extent = [0.01, 0.06, 0.1,0.0], interpolation='spline36',aspect=0.6)\n",
    "plt.xlabel('$\\sigma_z$', fontsize=14)\n",
    "plt.ylabel('$\\Delta z$', fontsize=14)\n",
    "plt.xticks(fontsize=12)\n",
    "plt.yticks(fontsize=12)\n",
    "plt.title('CDF of $\\chi^2$ distribution', fontsize=14)\n",
    "#cbar = plt.colorbar()\n",
    "#cbar.ax.tick_params(labelsize=14)\n",
    "plt.contour(sigz[0:6], delz[18:], cdf_grid[18:,0:6], [0.95], colors='k', linewidths=4)\n",
    "#plt.savefig('./pvalues_w1halo_variableF_Planck18.png')\n",
    "plt.show()"
   ]
  },
  {
   "cell_type": "code",
   "execution_count": null,
   "metadata": {},
   "outputs": [],
   "source": [
    "#plt.imshow(chisquared_cut/DOF_cut, extent = [0.01, 0.1, 0.0, -0.18])\n",
    "#plt.xlabel('$\\sigma_z$')\n",
    "#plt.ylabel('$\\Delta z$')\n",
    "#plt.title('Reduced $\\chi^2$ (omit smallest angle data point)')\n",
    "#plt.colorbar()\n",
    "#plt.savefig('./reduced_chisq_cutdvec.png')"
   ]
  },
  {
   "cell_type": "code",
   "execution_count": null,
   "metadata": {},
   "outputs": [],
   "source": [
    "show_bad_regions = np.zeros((len(delz), len(sigz)))\n",
    "show_bad_regions_cut = np.zeros((len(delz), len(sigz)))\n",
    "for zi in range(len(delz)):\n",
    "    for si in range(len(sigz)):\n",
    "        if (chisquared[zi, si] / DOF > 1.5):\n",
    "            show_bad_regions[zi,si]=0.0\n",
    "        else:\n",
    "            show_bad_regions[zi,si] = chisquared[zi,si] / DOF\n",
    "            \n",
    "#for zi in range(len(delz)):\n",
    "#    for si in range(len(sigz)):\n",
    "#        if (chisquared_cut[zi, si] / DOF_cut > 1.0):\n",
    "#            show_bad_regions_cut[zi,si]=0.0\n",
    "#        else:\n",
    "#            show_bad_regions_cut[zi,si] = chisquared_cut[zi,si] / DOF_cut\n",
    "            "
   ]
  },
  {
   "cell_type": "code",
   "execution_count": null,
   "metadata": {},
   "outputs": [],
   "source": [
    "plt.imshow(show_bad_regions, extent = [0.01, 0.1, 0.1, -0.18])\n",
    "plt.title('Yellow region has reduced $\\chi^2<1.5$')\n",
    "plt.xlabel('$\\sigma_z$')\n",
    "plt.ylabel('$\\Delta z$')\n",
    "plt.colorbar()\n",
    "plt.tight_layout()\n",
    "plt.savefig('./confusion_region_fulldvec_shift_one_sample_w1halo_variableF.png')"
   ]
  },
  {
   "cell_type": "code",
   "execution_count": null,
   "metadata": {},
   "outputs": [],
   "source": [
    "#plt.imshow(show_bad_regions_cut, extent = [0.01, 0.1, 0.0, -0.18])\n",
    "#plt.title('Non-zero region has reduced $\\chi^2<1$ (cut data vector)')\n",
    "#plt.xlabel('$\\sigma_z$')\n",
    "#plt.ylabel('$\\Delta z$')\n",
    "#plt.colorbar()\n",
    "#plt.savefig('./confusion_region_cutdvec.png')"
   ]
  },
  {
   "cell_type": "markdown",
   "metadata": {},
   "source": [
    "We are interested in also considering the case where we find the best-fit pz parameters for just the positive data points (all but the first one) and just the negative data points (the first one)."
   ]
  },
  {
   "cell_type": "code",
   "execution_count": null,
   "metadata": {},
   "outputs": [],
   "source": [
    "gamma_IA_pos = gamma_IA_fid[1:]\n",
    "data_cov_pos = data_cov[1:,1:]\n",
    "inv_data_cov_pos = np.linalg.inv(data_cov_pos)"
   ]
  },
  {
   "cell_type": "code",
   "execution_count": null,
   "metadata": {},
   "outputs": [],
   "source": [
    "#plt.figure()\n",
    "chisquared_pos = np.zeros((len(delz), len(sigz)))\n",
    "for di in range(0,len(delz)):\n",
    "    for si in range(0,len(sigz)):\n",
    "        theta, data_vec = np.loadtxt('./txtfiles/photo_z_test/gamma_IA_est_DESY1_no_fidIA_measured-redshifts-wrong_variableF_DESHoD_sigma='+str(sigz[si])+'deltaz='+str(delz[di])+'.txt', unpack=True)\n",
    "        theta_pos = theta[1:]\n",
    "        data_vec_pos = data_vec[1:]\n",
    "        #plt.loglog(theta, -1.0*data_vec, 'o', label='$\\delta z$='+str(delz[di])+', $\\sigma$='+str(sigz[si]))\n",
    "        diff = data_vec_pos - gamma_IA_pos\n",
    "        #print(\"data_vec=\", data_vec)\n",
    "        #print(\"gamma_IA_fid=\", gamma_IA_fid)\n",
    "        #print(diff)\n",
    "        #chisquared_cut[di, si] = np.dot(diff[1:],np.dot(inv_data_cov_cut,diff[1:]))\n",
    "        chisquared_pos[di, si] = np.dot(diff,np.dot(inv_data_cov_pos,diff))\n",
    "#plt.ylabel('$\\gamma_{IA}(\\\\theta)$')\n",
    "#plt.xlabel('$\\\\theta$, arcmin')\n",
    "#plt.title('w/ fid IA, perturb measured source redshift distributions \\n + negative, o positive')\n",
    "#plt.ylim(10**(-8),10**(-2))\n",
    "#plt.legend()\n",
    "#plt.savefig('./perturb_measured_source_dNdzs_nofidIA_w1halo_variableF_Planck18paras.png')\n",
    "#plt.close()\n",
    "#plt.show()"
   ]
  },
  {
   "cell_type": "code",
   "execution_count": null,
   "metadata": {},
   "outputs": [],
   "source": [
    "DOF_pos = DOF-1"
   ]
  },
  {
   "cell_type": "code",
   "execution_count": null,
   "metadata": {},
   "outputs": [],
   "source": [
    "cdf_grid_pos = np.zeros((len(delz), len(sigz)))\n",
    "for di in range(0,len(delz)):\n",
    "    for si in range(0,len(sigz)):\n",
    "        cdf_grid_pos[di,si] = chi2.cdf(chisquared_pos[di, si], DOF_pos)"
   ]
  },
  {
   "cell_type": "code",
   "execution_count": null,
   "metadata": {},
   "outputs": [],
   "source": [
    "ind_min_pos = np.where(cdf_grid_pos == np.amin(cdf_grid_pos))"
   ]
  },
  {
   "cell_type": "code",
   "execution_count": null,
   "metadata": {},
   "outputs": [],
   "source": [
    "cdf_grid_pos[ind_min_pos]"
   ]
  },
  {
   "cell_type": "code",
   "execution_count": null,
   "metadata": {},
   "outputs": [],
   "source": [
    "# Thesea are then the best fit pz parameters in the range.\n",
    "print(delz[ind_min_pos[0][0]])\n",
    "print(sigz[ind_min_pos[1][0]])"
   ]
  },
  {
   "cell_type": "code",
   "execution_count": null,
   "metadata": {},
   "outputs": [],
   "source": [
    "cdf_grid_pos"
   ]
  },
  {
   "cell_type": "code",
   "execution_count": null,
   "metadata": {},
   "outputs": [],
   "source": []
  },
  {
   "cell_type": "code",
   "execution_count": null,
   "metadata": {},
   "outputs": [],
   "source": [
    "# Plot the cdf as a function of photo-z params\n",
    "plt.figure()\n",
    "plt.imshow(cdf_grid_pos[8:,:], extent = [0.0, 0.1, 0.1, -0.1], aspect=1.0/2.0)\n",
    "#plt.imshow(cdf_grid_pos, extent = [0.0, 0.1, 0.1, -0.18], aspect=1.0/2.0)\n",
    "plt.xlabel('$\\sigma_z$', fontsize=14)\n",
    "plt.ylabel('$\\Delta z$', fontsize=14)\n",
    "plt.xticks(fontsize=12)\n",
    "plt.yticks(fontsize=12)\n",
    "plt.title('CDF of $\\chi^2$ dist - +ve data pts', fontsize=14)\n",
    "#cbar = plt.colorbar()\n",
    "#cbar.ax.tick_params(labelsize=14)\n",
    "plt.contour(sigz, delz[8:], cdf_grid_pos[8:,:], [0.68], colors='#FFFFFF', linewidths=4)\n",
    "#plt.savefig('./pvalues_w1halo_variableF_Planck18.png')\n",
    "plt.show()"
   ]
  },
  {
   "cell_type": "code",
   "execution_count": null,
   "metadata": {},
   "outputs": [],
   "source": [
    "gamma_IA_neg = gamma_IA_fid[0]\n",
    "data_cov_neg = data_cov[0,0]\n",
    "inv_data_cov_neg = 1./data_cov_neg"
   ]
  },
  {
   "cell_type": "code",
   "execution_count": null,
   "metadata": {},
   "outputs": [],
   "source": [
    "#plt.figure()\n",
    "chisquared_neg = np.zeros((len(delz), len(sigz)))\n",
    "for di in range(0,len(delz)):\n",
    "    for si in range(0,len(sigz)):\n",
    "        theta, data_vec = np.loadtxt('./txtfiles/photo_z_test/gamma_IA_est_DESY1_no_fidIA_measured-redshifts-wrong_variableF_DESHoD_sigma='+str(sigz[si])+'deltaz='+str(delz[di])+'.txt', unpack=True)\n",
    "        theta_neg = theta[0]\n",
    "        data_vec_neg = data_vec[0]\n",
    "        #plt.loglog(theta, -1.0*data_vec, 'o', label='$\\delta z$='+str(delz[di])+', $\\sigma$='+str(sigz[si]))\n",
    "        diff = data_vec_neg - gamma_IA_neg\n",
    "        #print(\"data_vec=\", data_vec)\n",
    "        #print(\"gamma_IA_fid=\", gamma_IA_fid)\n",
    "        #print(diff)\n",
    "        #chisquared_cut[di, si] = np.dot(diff[1:],np.dot(inv_data_cov_cut,diff[1:]))\n",
    "        chisquared_neg[di, si] = diff**2 * inv_data_cov_neg\n",
    "#plt.ylabel('$\\gamma_{IA}(\\\\theta)$')\n",
    "#plt.xlabel('$\\\\theta$, arcmin')\n",
    "#plt.title('w/ fid IA, perturb measured source redshift distributions \\n + negative, o positive')\n",
    "#plt.ylim(10**(-8),10**(-2))\n",
    "#plt.legend()\n",
    "#plt.savefig('./perturb_measured_source_dNdzs_nofidIA_w1halo_variableF_Planck18paras.png')\n",
    "#plt.close()\n",
    "#plt.show()"
   ]
  },
  {
   "cell_type": "code",
   "execution_count": null,
   "metadata": {},
   "outputs": [],
   "source": [
    "DOF_neg = 1"
   ]
  },
  {
   "cell_type": "code",
   "execution_count": null,
   "metadata": {},
   "outputs": [],
   "source": [
    "cdf_grid_neg = np.zeros((len(delz), len(sigz)))\n",
    "for di in range(0,len(delz)):\n",
    "    for si in range(0,len(sigz)):\n",
    "        cdf_grid_neg[di,si] = chi2.cdf(chisquared_neg[di, si], DOF_neg)"
   ]
  },
  {
   "cell_type": "code",
   "execution_count": null,
   "metadata": {},
   "outputs": [],
   "source": [
    "ind_min_neg = np.where(cdf_grid_neg == np.amin(cdf_grid_neg))"
   ]
  },
  {
   "cell_type": "code",
   "execution_count": null,
   "metadata": {},
   "outputs": [],
   "source": [
    "ind_min_neg"
   ]
  },
  {
   "cell_type": "code",
   "execution_count": null,
   "metadata": {},
   "outputs": [],
   "source": [
    "print(cdf_grid_neg[ind_min_neg])"
   ]
  },
  {
   "cell_type": "code",
   "execution_count": null,
   "metadata": {},
   "outputs": [],
   "source": [
    "print(delz[ind_min_neg[0][0]])\n",
    "print(sigz[ind_min_neg[1][0]])"
   ]
  },
  {
   "cell_type": "code",
   "execution_count": null,
   "metadata": {},
   "outputs": [],
   "source": [
    "# Plot the cdf as a function of photo-z params\n",
    "plt.figure()\n",
    "#plt.imshow(cdf_grid[8:19,:], extent = [0.01, 0.1, 0, -0.1])#, aspect=2.0/3.0)\n",
    "plt.imshow(cdf_grid_neg, extent = [0.0, 0.1, 0.1, -0.18])#, aspect=2.0/3.0)\n",
    "plt.xlabel('$\\sigma_z$', fontsize=14)\n",
    "plt.ylabel('$\\Delta z$', fontsize=14)\n",
    "plt.xticks(fontsize=12)\n",
    "plt.yticks(fontsize=12)\n",
    "plt.title('CDF of $\\chi^2$ dist -ve data points', fontsize=14)\n",
    "cbar = plt.colorbar()\n",
    "cbar.ax.tick_params(labelsize=14)\n",
    "plt.contour(sigz, delz, cdf_grid_neg, [0.68], colors='#FFFFFF', linewidths=4)\n",
    "#plt.savefig('./pvalues_w1halo_variableF_Planck18.png')\n",
    "plt.show()"
   ]
  },
  {
   "cell_type": "code",
   "execution_count": null,
   "metadata": {},
   "outputs": [],
   "source": []
  },
  {
   "cell_type": "code",
   "execution_count": null,
   "metadata": {},
   "outputs": [],
   "source": []
  }
 ],
 "metadata": {
  "kernelspec": {
   "display_name": "desc-tjp",
   "language": "python",
   "name": "desc-tjp"
  },
  "language_info": {
   "codemirror_mode": {
    "name": "ipython",
    "version": 3
   },
   "file_extension": ".py",
   "mimetype": "text/x-python",
   "name": "python",
   "nbconvert_exporter": "python",
   "pygments_lexer": "ipython3",
   "version": "3.6.9"
  }
 },
 "nbformat": 4,
 "nbformat_minor": 4
}
