{
 "cells": [
  {
   "cell_type": "code",
   "execution_count": 1,
   "id": "d9c1c12d",
   "metadata": {},
   "outputs": [],
   "source": [
    "import numpy as np\n",
    "import matplotlib.pyplot as plt\n",
    "import scipy.interpolate"
   ]
  },
  {
   "cell_type": "code",
   "execution_count": 2,
   "id": "4e7e8022",
   "metadata": {},
   "outputs": [],
   "source": [
    "theta, gamma_avg_lin, gamma_avg_nfw, lin_plus_nf, gamma_avg_nla = np.loadtxt('./txtfiles/photo_z_test/model_IA_out_fromJAB.txt', unpack=True)"
   ]
  },
  {
   "cell_type": "code",
   "execution_count": 3,
   "id": "ffcfe686",
   "metadata": {},
   "outputs": [],
   "source": [
    "theta_lens, gamma_t_B = np.loadtxt('./txtfiles/photo_z_test/gammat_lens_B_truez_DESY1_no_fidIA_DESHoD_assumedpar_OmM=0.3158_HH0=67.32.dat', unpack=True)"
   ]
  },
  {
   "cell_type": "code",
   "execution_count": 4,
   "id": "efadfc7d",
   "metadata": {},
   "outputs": [],
   "source": [
    "F_b = np.loadtxt('./txtfiles/photo_z_test/F_b_DESY1_wfidIA_measured-redshifts-wrong_variableF_DESHoD_sigz=0.0001_delz=0.0.txt')"
   ]
  },
  {
   "cell_type": "code",
   "execution_count": 5,
   "id": "4da993db",
   "metadata": {},
   "outputs": [],
   "source": [
    "B_b = np.loadtxt('./txtfiles/boosts/Boost_B_survey=DESY1_DESHoD.txt')"
   ]
  },
  {
   "cell_type": "code",
   "execution_count": 6,
   "id": "3e0a851b",
   "metadata": {},
   "outputs": [],
   "source": [
    "interp_IA = scipy.interpolate.interp1d(theta, lin_plus_nf)"
   ]
  },
  {
   "cell_type": "code",
   "execution_count": 7,
   "id": "898a20a1",
   "metadata": {},
   "outputs": [],
   "source": [
    "lin_plus_nfw_short = interp_IA(theta_lens)"
   ]
  },
  {
   "cell_type": "code",
   "execution_count": 8,
   "id": "dbc8e7a8",
   "metadata": {},
   "outputs": [
    {
     "data": {
      "image/png": "[encoded data removed]",
      "text/plain": [
       "<Figure size 432x288 with 1 Axes>"
      ]
     },
     "metadata": {
      "needs_background": "light"
     },
     "output_type": "display_data"
    }
   ],
   "source": [
    "plt.figure()\n",
    "#plt.loglog(theta,gamma_avg_lin, label='lin, IA')\n",
    "#plt.loglog(theta,gamma_avg_nfw, label='nfw, IA')\n",
    "plt.loglog(theta_lens,lin_plus_nfw_short*(B_b+F_b), label='lin+nfw, IA')\n",
    "#plt.loglog(theta, gamma_avg_nla, label='nla, IA')\n",
    "plt.loglog(theta_lens, gamma_t_B, label='lensing, B')\n",
    "plt.xlabel('$\\\\theta$')\n",
    "plt.xlim(0.01,200)\n",
    "plt.legend()\n",
    "plt.show()"
   ]
  },
  {
   "cell_type": "code",
   "execution_count": 9,
   "id": "e70669fe",
   "metadata": {},
   "outputs": [],
   "source": [
    "stack_save = np.column_stack((theta_lens, -1.0*lin_plus_nfw_short)) # fix sign convention to agree with us here.\n",
    "np.savetxt('./txtfiles/photo_z_test/mod_IA_nfw_plus_lin.txt',stack_save)"
   ]
  },
  {
   "cell_type": "code",
   "execution_count": 10,
   "id": "72147a4f",
   "metadata": {},
   "outputs": [],
   "source": [
    "theta_test, test_gammaIA = np.loadtxt('./txtfiles/photo_z_test/gamma_IA_est_DESY1_wfidIA_measured-redshifts-wrong_variableF_DESHoD_sigz=1e-06_delz=0.0_Aia=0.5.txt', unpack=True)"
   ]
  },
  {
   "cell_type": "code",
   "execution_count": null,
   "id": "82cb2298",
   "metadata": {},
   "outputs": [],
   "source": [
    "print(lin_plus_nfw_short)"
   ]
  },
  {
   "cell_type": "code",
   "execution_count": 11,
   "id": "50602473",
   "metadata": {},
   "outputs": [
    {
     "data": {
      "image/png": "[encoded data removed]",
      "text/plain": [
       "<Figure size 432x288 with 1 Axes>"
      ]
     },
     "metadata": {
      "needs_background": "light"
     },
     "output_type": "display_data"
    }
   ],
   "source": [
    "plt.figure()\n",
    "plt.loglog(theta_lens, lin_plus_nfw_short*0.5, 'o', label='input')\n",
    "plt.loglog(theta_test, test_gammaIA, 'o',label='recover')\n",
    "plt.legend()\n",
    "plt.show()"
   ]
  },
  {
   "cell_type": "code",
   "execution_count": null,
   "id": "f0d995b3",
   "metadata": {},
   "outputs": [],
   "source": []
  }
 ],
 "metadata": {
  "kernelspec": {
   "display_name": "desc-tjp",
   "language": "python",
   "name": "desc-tjp"
  },
  "language_info": {
   "codemirror_mode": {
    "name": "ipython",
    "version": 3
   },
   "file_extension": ".py",
   "mimetype": "text/x-python",
   "name": "python",
   "nbconvert_exporter": "python",
   "pygments_lexer": "ipython3",
   "version": "3.6.9"
  }
 },
 "nbformat": 4,
 "nbformat_minor": 5
}
